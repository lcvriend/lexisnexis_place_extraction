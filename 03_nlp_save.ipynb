{
 "cells": [
  {
   "cell_type": "code",
   "execution_count": null,
   "metadata": {},
   "outputs": [],
   "source": [
    "%load_ext autoreload\n",
    "%autoreload 2"
   ]
  },
  {
   "cell_type": "code",
   "execution_count": null,
   "metadata": {},
   "outputs": [],
   "source": [
    "batches = ['leeuwarder_courant', 'telegraaf', 'trouw', 'volkskrant']"
   ]
  },
  {
   "cell_type": "code",
   "execution_count": null,
   "metadata": {},
   "outputs": [],
   "source": [
    "import spacy\n",
    "import pandas as pd\n",
    "from itertools import combinations\n",
    "from spacy.pipeline import EntityRuler\n",
    "from src.config import PATH_MODEL, PATH_RESOURCES, PARAM\n",
    "from src.spacy_helpers import serialize_batch\n",
    "from src.geo_data import load_rest_countries, load_cbs_dutch_cities, parse_wiki_place_lists\n",
    "from src.geo_data import create_geonames_datasets"
   ]
  },
  {
   "cell_type": "code",
   "execution_count": null,
   "metadata": {},
   "outputs": [],
   "source": [
    "create_geonames_datasets(language='nl')"
   ]
  },
  {
   "cell_type": "code",
   "execution_count": null,
   "metadata": {},
   "outputs": [],
   "source": [
    "cbs_data = load_cbs_dutch_cities()\n",
    "df_alt = pd.read_pickle(PATH_RESOURCES / 'df_alt.pkl')\n",
    "df_geo = pd.read_pickle(PATH_RESOURCES / 'df_geo.pkl')\n",
    "geonames_data = df_alt.merge(df_geo, on='geoname_id')\n",
    "exclude = ['GB', 'NL']\n",
    "topo = {\n",
    "    'countries': load_rest_countries(language='nl', alts_json='alts_countries.json'),\n",
    "    'places'   : geonames_data.query(\"country_code not in @exclude\").alternate_name.values,\n",
    "    'places_uk': parse_wiki_place_lists('https://nl.wikipedia.org/wiki/Lijst_van_plaatsen_in_Engeland'),\n",
    "    'places_nl': cbs_data.query(\"provincie != 'Friesland'\").gemeentenaam.values,\n",
    "    'places_fr': cbs_data.query(\"provincie == 'Friesland'\").gemeentenaam.values,\n",
    "    }\n",
    "\n",
    "geo_ents = dict()\n",
    "for label in topo:\n",
    "    geo_ents[label] = [{'label': label, 'pattern': p} for p in topo[label]]"
   ]
  },
  {
   "cell_type": "code",
   "execution_count": null,
   "metadata": {},
   "outputs": [],
   "source": [
    "place_check = dict()\n",
    "for key in geo_ents:\n",
    "    ent_set = set()\n",
    "    for d in geo_ents[key]:\n",
    "        ent_set.add(d['pattern'])\n",
    "    place_check[key] = ent_set\n",
    "    \n",
    "for key1, key2 in list(combinations(place_check, r=2)):\n",
    "    if place_check[key1] & place_check[key2]:\n",
    "        print(f\"{key1}-{key2}\\n\", place_check[key1] & place_check[key2], \"\\n\")"
   ]
  },
  {
   "cell_type": "code",
   "execution_count": null,
   "metadata": {},
   "outputs": [],
   "source": [
    "removal = set()\n",
    "for key in place_check:\n",
    "    if key == 'places':\n",
    "        continue\n",
    "    removal = removal | (place_check[key] & place_check['places'])\n",
    "\n",
    "for item in geo_ents['places']:\n",
    "    if item['pattern'] in removal:\n",
    "        geo_ents['places'].remove(item)"
   ]
  },
  {
   "cell_type": "code",
   "execution_count": null,
   "metadata": {},
   "outputs": [],
   "source": [
    "nlp = spacy.load('nl', disable=['ner'])\n",
    "ruler = EntityRuler(nlp)\n",
    "for label in geo_ents:\n",
    "    ruler.add_patterns(geo_ents[label])\n",
    "nlp.add_pipe(ruler)\n",
    "nlp.to_disk(PATH_MODEL)"
   ]
  },
  {
   "cell_type": "code",
   "execution_count": null,
   "metadata": {},
   "outputs": [],
   "source": [
    "for batch in batches:\n",
    "    serialize_batch(nlp, batch)"
   ]
  }
 ],
 "metadata": {
  "kernelspec": {
   "display_name": "place-extraction",
   "language": "python",
   "name": "place-extraction"
  },
  "language_info": {
   "codemirror_mode": {
    "name": "ipython",
    "version": 3
   },
   "file_extension": ".py",
   "mimetype": "text/x-python",
   "name": "python",
   "nbconvert_exporter": "python",
   "pygments_lexer": "ipython3",
   "version": "3.7.3"
  }
 },
 "nbformat": 4,
 "nbformat_minor": 2
}
