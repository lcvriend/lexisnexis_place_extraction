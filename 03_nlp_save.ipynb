{
 "cells": [
  {
   "cell_type": "code",
   "execution_count": null,
   "metadata": {},
   "outputs": [],
   "source": [
    "%load_ext autoreload\n",
    "%autoreload 2"
   ]
  },
  {
   "cell_type": "code",
   "execution_count": null,
   "metadata": {},
   "outputs": [],
   "source": [
    "batches = ['leeuwarder_courant', 'telegraaf', 'trouw', 'volkskrant']"
   ]
  },
  {
   "cell_type": "code",
   "execution_count": null,
   "metadata": {},
   "outputs": [],
   "source": [
    "import spacy\n",
    "from spacy.pipeline import EntityRuler\n",
    "from src.config import PATH_MODEL, PARAM\n",
    "from src.spacy_helpers import serialize_batch\n",
    "from src.geo_data import load_rest_countries, load_cbs_dutch_cities, parse_wiki_place_lists, load_capitals_from_wiki\n",
    "from src.geo_data import create_geonames_datasets"
   ]
  },
  {
   "cell_type": "code",
   "execution_count": null,
   "metadata": {},
   "outputs": [],
   "source": [
    "create_geonames_datasets(language='nl')"
   ]
  },
  {
   "cell_type": "code",
   "execution_count": null,
   "metadata": {},
   "outputs": [],
   "source": [
    "cbs_data = load_cbs_dutch_cities()\n",
    "topo = {\n",
    "    'countries': load_rest_countries(language='nl', alts_json='alts.json'),\n",
    "    'capitals' : [country_cap[1] for country_cap in load_capitals_from_wiki()],\n",
    "    'places_uk': parse_wiki_place_lists('https://nl.wikipedia.org/wiki/Lijst_van_plaatsen_in_Engeland'),\n",
    "    'places_nl': cbs_data.gemeentenaam.values,\n",
    "    'places_fr': cbs_data.query(\"provincie == 'Friesland'\").gemeentenaam.values,\n",
    "    }\n",
    "\n",
    "geo_ents = dict()\n",
    "for label in topo:\n",
    "    geo_ents[label] = [{'label': label, 'pattern': p} for p in topo[label]]"
   ]
  },
  {
   "cell_type": "code",
   "execution_count": null,
   "metadata": {},
   "outputs": [],
   "source": [
    "nlp = spacy.load('nl', disable=['ner'])\n",
    "ruler = EntityRuler(nlp)\n",
    "for label in geo_ents:\n",
    "    ruler.add_patterns(geo_ents[label])\n",
    "nlp.add_pipe(ruler)\n",
    "nlp.to_disk(PATH_MODEL)"
   ]
  },
  {
   "cell_type": "code",
   "execution_count": null,
   "metadata": {},
   "outputs": [],
   "source": [
    "for batch in batches:\n",
    "    serialize_batch(nlp, batch)"
   ]
  }
 ],
 "metadata": {
  "kernelspec": {
   "display_name": "place-extraction",
   "language": "python",
   "name": "place-extraction"
  },
  "language_info": {
   "codemirror_mode": {
    "name": "ipython",
    "version": 3
   },
   "file_extension": ".py",
   "mimetype": "text/x-python",
   "name": "python",
   "nbconvert_exporter": "python",
   "pygments_lexer": "ipython3",
   "version": "3.7.3"
  }
 },
 "nbformat": 4,
 "nbformat_minor": 2
}
