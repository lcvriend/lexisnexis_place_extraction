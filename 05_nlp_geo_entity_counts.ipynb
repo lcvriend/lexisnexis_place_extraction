{
 "cells": [
  {
   "cell_type": "code",
   "execution_count": null,
   "metadata": {},
   "outputs": [],
   "source": [
    "%load_ext autoreload\n",
    "%autoreload 2"
   ]
  },
  {
   "cell_type": "code",
   "execution_count": null,
   "metadata": {},
   "outputs": [],
   "source": [
    "batches = ['leeuwarder_courant', 'telegraaf', 'trouw', 'volkskrant']"
   ]
  },
  {
   "cell_type": "code",
   "execution_count": null,
   "metadata": {},
   "outputs": [],
   "source": [
    "import pandas as pd\n",
    "from spacy.util import load_model\n",
    "from src.config import PATH_MODEL, PATH_DATA_P, PATH_RESULTS\n",
    "from src.spacy_helpers import fetch_docs\n",
    "from src.doc_analysis import attribute_counter, most_common"
   ]
  },
  {
   "cell_type": "code",
   "execution_count": null,
   "metadata": {},
   "outputs": [],
   "source": [
    "nlp = load_model(PATH_MODEL)"
   ]
  },
  {
   "cell_type": "code",
   "execution_count": null,
   "metadata": {},
   "outputs": [],
   "source": [
    "all_fails = list()\n",
    "batches_totals = dict()\n",
    "batches_unique = dict()\n",
    "for batch in batches:\n",
    "    batch_totals = dict()\n",
    "    batch_unique = dict()\n",
    "    for doc in fetch_docs(PATH_DATA_P / batch, nlp.vocab):\n",
    "        totals, fails = attribute_counter(doc)\n",
    "        unique, _ = attribute_counter(doc, unique=True)\n",
    "        if fails:\n",
    "            all_fails.append(fails)\n",
    "        for key in totals:\n",
    "            if key not in batch_totals:\n",
    "                batch_totals[key] = totals[key]\n",
    "            else:\n",
    "                batch_totals[key] = batch_totals[key] + totals[key]\n",
    "        for key in unique:\n",
    "            if key not in batch_unique:\n",
    "                batch_unique[key] = unique[key]\n",
    "            else:\n",
    "                batch_unique[key] = batch_unique[key] + unique[key]\n",
    "    batches_totals[batch] = batch_totals\n",
    "    batches_unique[batch] = batch_unique"
   ]
  },
  {
   "cell_type": "code",
   "execution_count": null,
   "metadata": {},
   "outputs": [],
   "source": [
    "df_all = pd.DataFrame()\n",
    "for batch in batches:\n",
    "    df = pd.DataFrame.from_dict(batches_totals[batch], orient='index')\n",
    "    df = df.stack().to_frame().rename(columns={0: batch})\n",
    "    if df_all.empty:\n",
    "        df_all = df\n",
    "    else:\n",
    "        df_all = df.merge(df_all, how='outer', left_index=True, right_index=True)"
   ]
  },
  {
   "cell_type": "code",
   "execution_count": null,
   "metadata": {},
   "outputs": [],
   "source": [
    "df_all.to_pickle(PATH_RESULTS / 'df_attribute_counts.pkl')"
   ]
  },
  {
   "cell_type": "code",
   "execution_count": null,
   "metadata": {},
   "outputs": [],
   "source": [
    "n_fails = 0\n",
    "for fails in all_fails:\n",
    "    for fail in fails:\n",
    "        n_fails += 1\n",
    "n_fails"
   ]
  },
  {
   "cell_type": "code",
   "execution_count": null,
   "metadata": {},
   "outputs": [],
   "source": [
    "data = list()\n",
    "for geo_ent in ['countries', 'place_uk', 'place_nl', 'place_fr']:\n",
    "    for batch in batches_totals:\n",
    "        data.append([geo_ent, batch, len(batches_totals[batch][geo_ent])])\n",
    "pd.DataFrame(data, columns=['geo_entity', 'source', 'count']).set_index(['geo_entity', 'source']).unstack(0)"
   ]
  },
  {
   "cell_type": "code",
   "execution_count": null,
   "metadata": {},
   "outputs": [],
   "source": [
    "most_common(batches_totals, 'place_uk', n=15)"
   ]
  },
  {
   "cell_type": "code",
   "execution_count": null,
   "metadata": {},
   "outputs": [],
   "source": [
    "most_common(batches_unique, 'place_uk', n=15)"
   ]
  },
  {
   "cell_type": "code",
   "execution_count": null,
   "metadata": {},
   "outputs": [],
   "source": [
    "most_common(batches_totals, 'countries', n=15)"
   ]
  },
  {
   "cell_type": "code",
   "execution_count": null,
   "metadata": {},
   "outputs": [],
   "source": [
    "most_common(batches_unique, 'countries', n=15)"
   ]
  },
  {
   "cell_type": "code",
   "execution_count": null,
   "metadata": {},
   "outputs": [],
   "source": [
    "most_common(batches_totals, 'place_nl', n=15)"
   ]
  },
  {
   "cell_type": "code",
   "execution_count": null,
   "metadata": {},
   "outputs": [],
   "source": [
    "most_common(batches_unique, 'place_nl', n=15)"
   ]
  },
  {
   "cell_type": "code",
   "execution_count": null,
   "metadata": {},
   "outputs": [],
   "source": [
    "most_common(batches_totals, 'place_fr', n=15)"
   ]
  },
  {
   "cell_type": "code",
   "execution_count": null,
   "metadata": {},
   "outputs": [],
   "source": [
    "most_common(batches_unique, 'place_fr', n=15)"
   ]
  },
  {
   "cell_type": "code",
   "execution_count": null,
   "metadata": {},
   "outputs": [],
   "source": [
    "most_common(batches_totals, 'lemma', n=15)"
   ]
  },
  {
   "cell_type": "code",
   "execution_count": null,
   "metadata": {},
   "outputs": [],
   "source": [
    "most_common(batches_unique, 'lemma', n=15)"
   ]
  }
 ],
 "metadata": {
  "kernelspec": {
   "display_name": "place-extraction",
   "language": "python",
   "name": "place-extraction"
  },
  "language_info": {
   "codemirror_mode": {
    "name": "ipython",
    "version": 3
   },
   "file_extension": ".py",
   "mimetype": "text/x-python",
   "name": "python",
   "nbconvert_exporter": "python",
   "pygments_lexer": "ipython3",
   "version": "3.7.3"
  }
 },
 "nbformat": 4,
 "nbformat_minor": 2
}
