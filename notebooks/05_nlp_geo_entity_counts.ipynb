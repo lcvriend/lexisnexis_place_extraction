{
 "cells": [
  {
   "cell_type": "code",
   "execution_count": null,
   "metadata": {},
   "outputs": [],
   "source": [
    "import sys\n",
    "sys.path.insert(0, '../')"
   ]
  },
  {
   "cell_type": "code",
   "execution_count": null,
   "metadata": {},
   "outputs": [],
   "source": [
    "# standard library\n",
    "import pickle\n",
    "# third party\n",
    "import pandas as pd\n",
    "from spacy.util import load_model\n",
    "# local\n",
    "from src.config import PARAM, PATH_DATA_P, PATH_RESULTS\n",
    "from src.doc_analysis import most_common\n",
    "batches = PARAM.lexisnexis.batches"
   ]
  },
  {
   "cell_type": "code",
   "execution_count": null,
   "metadata": {},
   "outputs": [],
   "source": [
    "path_totals = PATH_RESULTS / 'dct_total_tokens_and_entities.pkl'\n",
    "path_unique = PATH_RESULTS / 'dct_unique_tokens_and_entities.pkl'\n",
    "\n",
    "with open(path_totals, 'rb') as f:\n",
    "    batches_totals = pickle.load(f)\n",
    "\n",
    "with open(path_unique, 'rb') as f:\n",
    "    batches_unique = pickle.load(f)"
   ]
  },
  {
   "cell_type": "code",
   "execution_count": null,
   "metadata": {},
   "outputs": [],
   "source": [
    "geo_ents = ['countries', 'places', 'places_uk', 'places_nl', 'places_fr']"
   ]
  },
  {
   "cell_type": "code",
   "execution_count": null,
   "metadata": {},
   "outputs": [],
   "source": [
    "data = list()\n",
    "for geo_ent in geo_ents:\n",
    "    for batch in batches_totals:\n",
    "        data.append([geo_ent, batch, len(batches_totals[batch][geo_ent])])\n",
    "pd.DataFrame(data, columns=['geo_entity', 'source', 'count']).set_index(['geo_entity', 'source']).unstack(0)"
   ]
  },
  {
   "cell_type": "code",
   "execution_count": null,
   "metadata": {},
   "outputs": [],
   "source": [
    "df = pd.DataFrame()\n",
    "for geo_ent in geo_ents:\n",
    "    df_ = most_common(batches_totals, geo_ent, n=12)\n",
    "    df_ = pd.concat([df_], keys=[geo_ent], names=['entity_type'])\n",
    "    df = df.append(df_)\n",
    "df.update(df.xs('count', level=1, axis=1, drop_level=False).astype('Int64'))\n",
    "df"
   ]
  },
  {
   "cell_type": "code",
   "execution_count": null,
   "metadata": {},
   "outputs": [],
   "source": [
    "df = pd.DataFrame()\n",
    "for geo_ent in geo_ents:\n",
    "    df_ = most_common(batches_unique, geo_ent, n=12)\n",
    "    df_ = pd.concat([df_], keys=[geo_ent], names=['entity_type'])\n",
    "    df = df.append(df_)\n",
    "df.update(df.xs('count', level=1, axis=1, drop_level=False).astype('Int64'))\n",
    "df"
   ]
  },
  {
   "cell_type": "code",
   "execution_count": null,
   "metadata": {},
   "outputs": [],
   "source": [
    "most_common(batches_totals, 'lemma', n=15)"
   ]
  },
  {
   "cell_type": "code",
   "execution_count": null,
   "metadata": {},
   "outputs": [],
   "source": [
    "most_common(batches_unique, 'lemma', n=15)"
   ]
  }
 ],
 "metadata": {
  "kernelspec": {
   "display_name": "place-extraction",
   "language": "python",
   "name": "place-extraction"
  },
  "language_info": {
   "codemirror_mode": {
    "name": "ipython",
    "version": 3
   },
   "file_extension": ".py",
   "mimetype": "text/x-python",
   "name": "python",
   "nbconvert_exporter": "python",
   "pygments_lexer": "ipython3",
   "version": "3.7.3"
  }
 },
 "nbformat": 4,
 "nbformat_minor": 4
}
