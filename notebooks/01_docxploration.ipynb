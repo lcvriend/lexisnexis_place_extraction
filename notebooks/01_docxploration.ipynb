{
 "cells": [
  {
   "cell_type": "code",
   "execution_count": null,
   "metadata": {},
   "outputs": [],
   "source": [
    "%cd .."
   ]
  },
  {
   "cell_type": "code",
   "execution_count": null,
   "metadata": {},
   "outputs": [],
   "source": [
    "# third party\n",
    "import pandas as pd\n",
    "import matplotlib.pyplot as plt\n",
    "%matplotlib inline\n",
    "\n",
    "# local\n",
    "from src.config_ import PATHS\n",
    "from src.pd_helpers import count_per_week\n",
    "from src.doc_analysis import load_lexisnexis_data, most_common"
   ]
  },
  {
   "cell_type": "code",
   "execution_count": null,
   "metadata": {},
   "outputs": [],
   "source": [
    "df = load_lexisnexis_data()"
   ]
  },
  {
   "cell_type": "markdown",
   "metadata": {},
   "source": [
    "## Counts per column and source"
   ]
  },
  {
   "cell_type": "code",
   "execution_count": null,
   "metadata": {},
   "outputs": [],
   "source": [
    "print(\"Total no. of articles: \", df.body.count().sum())\n",
    "df.groupby('source').count().T"
   ]
  },
  {
   "cell_type": "markdown",
   "metadata": {},
   "source": [
    "## Most common bylines by source"
   ]
  },
  {
   "cell_type": "code",
   "execution_count": null,
   "metadata": {},
   "outputs": [],
   "source": [
    "most_common(df, 'byline')"
   ]
  },
  {
   "cell_type": "markdown",
   "metadata": {},
   "source": [
    "## Statistical overview of article length per source"
   ]
  },
  {
   "cell_type": "code",
   "execution_count": null,
   "metadata": {},
   "outputs": [],
   "source": [
    "df.groupby('source').length.agg(['min', 'max', 'mean', 'median', 'std']).round(0).astype('int').T"
   ]
  },
  {
   "cell_type": "code",
   "execution_count": null,
   "metadata": {},
   "outputs": [],
   "source": [
    "df['length_bin'] = pd.cut(df['length'], range(0, 2250, 250))\n",
    "df_bin = df.groupby(['source', 'length_bin']).length.count()\n",
    "df_bin.unstack('source').plot.bar(figsize=(12,5))"
   ]
  },
  {
   "cell_type": "markdown",
   "metadata": {},
   "source": [
    "## Number of articles per section and source"
   ]
  },
  {
   "cell_type": "code",
   "execution_count": null,
   "metadata": {},
   "outputs": [],
   "source": [
    "table = most_common(df, 'section')\n",
    "table.to_html(PATHS.results / 'most_common_sections_per_source.html')\n",
    "table"
   ]
  },
  {
   "cell_type": "markdown",
   "metadata": {},
   "source": [
    "## Statistical overview of where in the paper the articles mostly appear"
   ]
  },
  {
   "cell_type": "code",
   "execution_count": null,
   "metadata": {},
   "outputs": [],
   "source": [
    "df.groupby('source').page.agg(['min', 'max', 'mean', 'median', 'std']).round(1).T"
   ]
  },
  {
   "cell_type": "code",
   "execution_count": null,
   "metadata": {},
   "outputs": [],
   "source": [
    "df['page_bin'] = pd.cut(df['page'], range(0, 50, 5))\n",
    "df_bin = df.groupby(['source', 'page_bin']).page.count()\n",
    "df_bin.unstack('source').plot.bar(figsize=(12,5))"
   ]
  },
  {
   "cell_type": "markdown",
   "metadata": {},
   "source": [
    "## Overview of when articles appeared in 2017"
   ]
  },
  {
   "cell_type": "code",
   "execution_count": null,
   "metadata": {},
   "outputs": [],
   "source": [
    "df_agg = count_per_week(df, 'publication_date', 'source')\n",
    "df_agg = df_agg.set_index('source', append=True).unstack('source')\n",
    "df_agg.index = range(1, 52, 1)\n",
    "df_agg.plot(kind='bar', figsize=(12,15), subplots=True)"
   ]
  },
  {
   "cell_type": "code",
   "execution_count": null,
   "metadata": {},
   "outputs": [],
   "source": [
    "df_agg = count_per_week(df, 'publication_date', 'source')\n",
    "df_agg = df_agg.set_index('source', append=True).unstack('source')\n",
    "df_agg.index = range(1, 52, 1)\n",
    "df_agg.plot(kind='line', figsize=(12,5), subplots=False)"
   ]
  }
 ],
 "metadata": {
  "kernelspec": {
   "display_name": "place-extraction",
   "language": "python",
   "name": "place-extraction"
  },
  "language_info": {
   "codemirror_mode": {
    "name": "ipython",
    "version": 3
   },
   "file_extension": ".py",
   "mimetype": "text/x-python",
   "name": "python",
   "nbconvert_exporter": "python",
   "pygments_lexer": "ipython3",
   "version": "3.7.3"
  }
 },
 "nbformat": 4,
 "nbformat_minor": 4
}
