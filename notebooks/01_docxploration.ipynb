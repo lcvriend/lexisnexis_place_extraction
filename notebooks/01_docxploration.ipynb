{
 "cells": [
  {
   "cell_type": "code",
   "execution_count": 22,
   "metadata": {},
   "outputs": [
    {
     "name": "stdout",
     "output_type": "stream",
     "text": [
      "C:\\Users\\lcvri\\projects_lc\n"
     ]
    }
   ],
   "source": [
    "%cd .."
   ]
  },
  {
   "cell_type": "code",
   "execution_count": 23,
   "metadata": {},
   "outputs": [],
   "source": [
    "# third party\n",
    "import pandas as pd\n",
    "import matplotlib.pyplot as plt\n",
    "%matplotlib inline\n",
    "# local\n",
    "from src.pd_helpers import count_per_week\n",
    "from src.doc_analysis import load_lexisnexis_data, most_common"
   ]
  },
  {
   "cell_type": "code",
   "execution_count": 24,
   "metadata": {},
   "outputs": [],
   "source": [
    "df = load_lexisnexis_data()"
   ]
  },
  {
   "cell_type": "code",
   "execution_count": 25,
   "metadata": {},
   "outputs": [
    {
     "name": "stdout",
     "output_type": "stream",
     "text": [
      "Total no. of articles:  1869\n"
     ]
    },
    {
     "data": {
      "text/html": [
       "<div>\n",
       "<style scoped>\n",
       "    .dataframe tbody tr th:only-of-type {\n",
       "        vertical-align: middle;\n",
       "    }\n",
       "\n",
       "    .dataframe tbody tr th {\n",
       "        vertical-align: top;\n",
       "    }\n",
       "\n",
       "    .dataframe thead th {\n",
       "        text-align: right;\n",
       "    }\n",
       "</style>\n",
       "<table border=\"1\" class=\"dataframe\">\n",
       "  <thead>\n",
       "    <tr style=\"text-align: right;\">\n",
       "      <th>source</th>\n",
       "      <th>De Telegraaf</th>\n",
       "      <th>Leeuwarder Courant</th>\n",
       "      <th>Trouw</th>\n",
       "      <th>de Volkskrant</th>\n",
       "    </tr>\n",
       "  </thead>\n",
       "  <tbody>\n",
       "    <tr>\n",
       "      <th>title</th>\n",
       "      <td>487</td>\n",
       "      <td>301</td>\n",
       "      <td>497</td>\n",
       "      <td>584</td>\n",
       "    </tr>\n",
       "    <tr>\n",
       "      <th>body</th>\n",
       "      <td>487</td>\n",
       "      <td>301</td>\n",
       "      <td>497</td>\n",
       "      <td>584</td>\n",
       "    </tr>\n",
       "    <tr>\n",
       "      <th>body_</th>\n",
       "      <td>487</td>\n",
       "      <td>301</td>\n",
       "      <td>497</td>\n",
       "      <td>584</td>\n",
       "    </tr>\n",
       "    <tr>\n",
       "      <th>body_str</th>\n",
       "      <td>487</td>\n",
       "      <td>301</td>\n",
       "      <td>497</td>\n",
       "      <td>584</td>\n",
       "    </tr>\n",
       "    <tr>\n",
       "      <th>publication_date</th>\n",
       "      <td>487</td>\n",
       "      <td>301</td>\n",
       "      <td>497</td>\n",
       "      <td>584</td>\n",
       "    </tr>\n",
       "    <tr>\n",
       "      <th>load_date</th>\n",
       "      <td>487</td>\n",
       "      <td>301</td>\n",
       "      <td>497</td>\n",
       "      <td>584</td>\n",
       "    </tr>\n",
       "    <tr>\n",
       "      <th>section</th>\n",
       "      <td>487</td>\n",
       "      <td>301</td>\n",
       "      <td>497</td>\n",
       "      <td>584</td>\n",
       "    </tr>\n",
       "    <tr>\n",
       "      <th>page</th>\n",
       "      <td>487</td>\n",
       "      <td>301</td>\n",
       "      <td>497</td>\n",
       "      <td>584</td>\n",
       "    </tr>\n",
       "    <tr>\n",
       "      <th>length</th>\n",
       "      <td>487</td>\n",
       "      <td>301</td>\n",
       "      <td>497</td>\n",
       "      <td>584</td>\n",
       "    </tr>\n",
       "    <tr>\n",
       "      <th>byline</th>\n",
       "      <td>299</td>\n",
       "      <td>165</td>\n",
       "      <td>457</td>\n",
       "      <td>490</td>\n",
       "    </tr>\n",
       "    <tr>\n",
       "      <th>copyright</th>\n",
       "      <td>487</td>\n",
       "      <td>301</td>\n",
       "      <td>497</td>\n",
       "      <td>584</td>\n",
       "    </tr>\n",
       "    <tr>\n",
       "      <th>folder</th>\n",
       "      <td>487</td>\n",
       "      <td>301</td>\n",
       "      <td>497</td>\n",
       "      <td>584</td>\n",
       "    </tr>\n",
       "    <tr>\n",
       "      <th>filename</th>\n",
       "      <td>487</td>\n",
       "      <td>301</td>\n",
       "      <td>497</td>\n",
       "      <td>584</td>\n",
       "    </tr>\n",
       "    <tr>\n",
       "      <th>url</th>\n",
       "      <td>487</td>\n",
       "      <td>301</td>\n",
       "      <td>497</td>\n",
       "      <td>584</td>\n",
       "    </tr>\n",
       "  </tbody>\n",
       "</table>\n",
       "</div>"
      ],
      "text/plain": [
       "source            De Telegraaf  Leeuwarder Courant  Trouw  de Volkskrant\n",
       "title                      487                 301    497            584\n",
       "body                       487                 301    497            584\n",
       "body_                      487                 301    497            584\n",
       "body_str                   487                 301    497            584\n",
       "publication_date           487                 301    497            584\n",
       "load_date                  487                 301    497            584\n",
       "section                    487                 301    497            584\n",
       "page                       487                 301    497            584\n",
       "length                     487                 301    497            584\n",
       "byline                     299                 165    457            490\n",
       "copyright                  487                 301    497            584\n",
       "folder                     487                 301    497            584\n",
       "filename                   487                 301    497            584\n",
       "url                        487                 301    497            584"
      ]
     },
     "execution_count": 25,
     "metadata": {},
     "output_type": "execute_result"
    }
   ],
   "source": [
    "print(\"Total no. of articles: \", df.body.count().sum())\n",
    "df.groupby('source').count().T"
   ]
  },
  {
   "cell_type": "code",
   "execution_count": null,
   "metadata": {},
   "outputs": [],
   "source": [
    "most_common(df, 'byline')"
   ]
  },
  {
   "cell_type": "code",
   "execution_count": null,
   "metadata": {},
   "outputs": [],
   "source": [
    "df.groupby('source').length.agg(['min', 'max', 'mean', 'median', 'std']).round(1).T"
   ]
  },
  {
   "cell_type": "code",
   "execution_count": null,
   "metadata": {},
   "outputs": [],
   "source": [
    "df['length_bin'] = pd.cut(df['length'], range(0, 2250, 250))\n",
    "df_bin = df.groupby(['source', 'length_bin']).length.count()\n",
    "df_bin.unstack('source').plot.bar(figsize=(12,5))"
   ]
  },
  {
   "cell_type": "code",
   "execution_count": null,
   "metadata": {},
   "outputs": [],
   "source": [
    "most_common(df, 'section')"
   ]
  },
  {
   "cell_type": "code",
   "execution_count": null,
   "metadata": {},
   "outputs": [],
   "source": [
    "df.groupby('source').page.agg(['min', 'max', 'mean', 'median', 'std']).round(1).T"
   ]
  },
  {
   "cell_type": "code",
   "execution_count": null,
   "metadata": {},
   "outputs": [],
   "source": [
    "df['page_bin'] = pd.cut(df['page'], range(0, 50, 5))\n",
    "df_bin = df.groupby(['source', 'page_bin']).page.count()\n",
    "df_bin.unstack('source').plot.bar(figsize=(12,5))"
   ]
  },
  {
   "cell_type": "code",
   "execution_count": null,
   "metadata": {},
   "outputs": [],
   "source": [
    "df_agg = count_per_week(df, 'publication_date', 'source')\n",
    "df_agg = df_agg.set_index('source', append=True).unstack('source')\n",
    "df_agg.index = range(1, 52, 1)\n",
    "df_agg.plot(kind='bar', figsize=(12,15), subplots=True)"
   ]
  },
  {
   "cell_type": "code",
   "execution_count": null,
   "metadata": {},
   "outputs": [],
   "source": [
    "df_agg = count_per_week(df, 'publication_date', 'source')\n",
    "df_agg = df_agg.set_index('source', append=True).unstack('source')\n",
    "df_agg.index = range(1, 52, 1)\n",
    "df_agg.plot(kind='line', figsize=(12,5), subplots=False)"
   ]
  }
 ],
 "metadata": {
  "kernelspec": {
   "display_name": "place-extraction",
   "language": "python",
   "name": "place-extraction"
  },
  "language_info": {
   "codemirror_mode": {
    "name": "ipython",
    "version": 3
   },
   "file_extension": ".py",
   "mimetype": "text/x-python",
   "name": "python",
   "nbconvert_exporter": "python",
   "pygments_lexer": "ipython3",
   "version": "3.7.3"
  }
 },
 "nbformat": 4,
 "nbformat_minor": 4
}
