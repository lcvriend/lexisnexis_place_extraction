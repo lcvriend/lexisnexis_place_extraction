{
 "cells": [
  {
   "cell_type": "code",
   "execution_count": null,
   "metadata": {},
   "outputs": [],
   "source": [
    "import locale\n",
    "\n",
    "import pandas as pd\n",
    "\n",
    "import src.lexisnexis_parser as lnp\n",
    "from src.config import PARAM, PATH_DATA_R, PATH_DATA_I\n",
    "\n",
    "batches = PARAM.lexisnexis.batches\n",
    "locale.setlocale(locale.LC_ALL, 'nl_NL')"
   ]
  },
  {
   "cell_type": "code",
   "execution_count": null,
   "metadata": {},
   "outputs": [],
   "source": [
    "for batch in batches:\n",
    "    path_raw = PATH_DATA_R / batch\n",
    "    df = lnp.docxs_to_df(path_raw)\n",
    "    df = df.drop_duplicates(subset=['title', 'length'], keep='first')\n",
    "    df.to_pickle(PATH_DATA_I / f'{batch}.pkl')\n",
    "\n",
    "    # separate section and page\n",
    "    df = lnp.split_page_from_section(df)\n",
    "\n",
    "    # extract length as integer\n",
    "    df['length'] = df.length.str.split(' ').str[0].astype('int')\n",
    "\n",
    "    # add body as string\n",
    "    df['body_'] = df.body.str.join('\\n')\n",
    "\n",
    "    # convert date strings to dates\n",
    "    df['load_date'] = pd.to_datetime(df['load_date'])\n",
    "    df['publication_date'] = lnp.parse_datestring(\n",
    "        df['publication_date'],\n",
    "        split_on=',',\n",
    "        format='%d %B %Y %A',\n",
    "        )\n",
    "\n",
    "    df = lnp.standardize_df(df, batch)\n",
    "    df.to_pickle(PATH_DATA_I / f'{batch}_.pkl')"
   ]
  }
 ],
 "metadata": {
  "kernelspec": {
   "display_name": "place-extraction",
   "language": "python",
   "name": "place-extraction"
  },
  "language_info": {
   "codemirror_mode": {
    "name": "ipython",
    "version": 3
   },
   "file_extension": ".py",
   "mimetype": "text/x-python",
   "name": "python",
   "nbconvert_exporter": "python",
   "pygments_lexer": "ipython3",
   "version": "3.7.3"
  }
 },
 "nbformat": 4,
 "nbformat_minor": 2
}
