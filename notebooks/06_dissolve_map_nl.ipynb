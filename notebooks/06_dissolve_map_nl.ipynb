{
 "cells": [
  {
   "cell_type": "code",
   "execution_count": null,
   "metadata": {},
   "outputs": [],
   "source": [
    "import sys\n",
    "sys.path.insert(0, '../')\n",
    "import geopandas\n",
    "import matplotlib.pyplot as plt\n",
    "from src.config import PARAM, PATH_RESOURCES, PATH_RESULTS\n",
    "from src.geo_data import load_cbs_municipalities"
   ]
  },
  {
   "cell_type": "code",
   "execution_count": null,
   "metadata": {},
   "outputs": [],
   "source": [
    "map_ = geopandas.read_file(PATH_RESOURCES / 'shapefiles/nl_cbs_wijk_buurt_gem_2018')\n",
    "map_ = map_.query(\"WATER == 'NEE'\")[['GM_NAAM', 'geometry']]\n",
    "map_.crs"
   ]
  },
  {
   "cell_type": "code",
   "execution_count": null,
   "metadata": {},
   "outputs": [],
   "source": [
    "df = load_cbs_municipalities()"
   ]
  },
  {
   "cell_type": "code",
   "execution_count": null,
   "metadata": {},
   "outputs": [],
   "source": [
    "map_prov = map_.merge(\n",
    "    df[['provincie', 'gemeentenaam']],\n",
    "    left_on='GM_NAAM',\n",
    "    right_on='gemeentenaam',\n",
    "    how='left'\n",
    "    )\n",
    "map_prov = map_prov.dissolve(by='provincie').drop(['GM_NAAM', 'gemeentenaam'], axis=1)\n",
    "map_prov.to_file(\"nl_cbs_provincies_2018.shp\")"
   ]
  },
  {
   "cell_type": "code",
   "execution_count": null,
   "metadata": {},
   "outputs": [],
   "source": [
    "map_prov.plot(figsize=(20,20))"
   ]
  }
 ],
 "metadata": {
  "kernelspec": {
   "display_name": "place-extraction",
   "language": "python",
   "name": "place-extraction"
  },
  "language_info": {
   "codemirror_mode": {
    "name": "ipython",
    "version": 3
   },
   "file_extension": ".py",
   "mimetype": "text/x-python",
   "name": "python",
   "nbconvert_exporter": "python",
   "pygments_lexer": "ipython3",
   "version": "3.7.3"
  }
 },
 "nbformat": 4,
 "nbformat_minor": 2
}
