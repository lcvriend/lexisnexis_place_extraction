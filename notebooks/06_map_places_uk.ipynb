{
 "cells": [
  {
   "cell_type": "code",
   "execution_count": null,
   "metadata": {},
   "outputs": [],
   "source": [
    "import sys\n",
    "sys.path.insert(0, '../')\n",
    "import geopandas\n",
    "import pandas as pd\n",
    "import matplotlib.pyplot as plt\n",
    "from shapely.geometry import Point\n",
    "from src.config import PARAM, PATH_SHAPES, PATH_RESOURCES, PATH_RESULTS\n",
    "from src.geo_data import load_geonames\n",
    "from src.geoplot import geoplot_points, annotate_geoplot"
   ]
  },
  {
   "cell_type": "code",
   "execution_count": null,
   "metadata": {},
   "outputs": [],
   "source": [
    "loc = 'uk'\n",
    "basemap = geopandas.read_file(PATH_SHAPES / loc)\n",
    "basemap = basemap.to_crs({'init': 'epsg:27700'})"
   ]
  },
  {
   "cell_type": "code",
   "execution_count": null,
   "metadata": {},
   "outputs": [],
   "source": [
    "df_geo = pd.read_pickle(PATH_RESOURCES / 'geonames/df_geonames.pkl').query(\"country_code == 'GB'\")"
   ]
  },
  {
   "cell_type": "code",
   "execution_count": null,
   "metadata": {},
   "outputs": [],
   "source": [
    "geometry = [Point(xy) for xy in zip(df_geo.longitude, df_geo.latitude)]\n",
    "crs = {'init' :'epsg:4326'}\n",
    "gdf_ = geopandas.GeoDataFrame(df_geo, crs=crs, geometry=geometry)\n",
    "gdf_ = gdf_.to_crs(basemap.crs)"
   ]
  },
  {
   "cell_type": "code",
   "execution_count": null,
   "metadata": {},
   "outputs": [],
   "source": [
    "fig, ax = plt.subplots(figsize=(8,8))\n",
    "geoplot_points(ax, basemap, gdf_, 3, title='Distribute plaatsnamen')\n",
    "plt.savefig(PATH_RESULTS / f\"distribution_places_{loc}.png\")\n",
    "plt.tight_layout()"
   ]
  },
  {
   "cell_type": "code",
   "execution_count": null,
   "metadata": {},
   "outputs": [],
   "source": [
    "df = pd.read_pickle(PATH_RESULTS / 'df_counts_totals.pkl').xs('places_uk', level=0)\n",
    "df = df.rename(columns={'index': 'naam'})"
   ]
  },
  {
   "cell_type": "code",
   "execution_count": null,
   "metadata": {},
   "outputs": [],
   "source": [
    "gdf = gdf_.merge(df, how='inner', left_on='alternate_name', right_index=True)"
   ]
  },
  {
   "cell_type": "code",
   "execution_count": null,
   "metadata": {},
   "outputs": [],
   "source": [
    "fig, axs = plt.subplots(2, 2, sharex=True, sharey=True, figsize=(16, 28))\n",
    "for ax, batch in zip(axs.reshape(-1), PARAM.lexisnexis.batches):\n",
    "    ax = geoplot_points(ax, basemap, gdf, gdf[batch].fillna(0), title=batch, factor=12)\n",
    "    places = gdf.dropna(subset=[batch]).loc[gdf[batch] >= 5]\n",
    "    annotate_geoplot(ax, places, 'alternate_name')\n",
    "plt.savefig(PATH_RESULTS / f\"places_{loc}.png\")\n",
    "plt.tight_layout()"
   ]
  }
 ],
 "metadata": {
  "kernelspec": {
   "display_name": "place-extraction",
   "language": "python",
   "name": "place-extraction"
  },
  "language_info": {
   "codemirror_mode": {
    "name": "ipython",
    "version": 3
   },
   "file_extension": ".py",
   "mimetype": "text/x-python",
   "name": "python",
   "nbconvert_exporter": "python",
   "pygments_lexer": "ipython3",
   "version": "3.7.3"
  }
 },
 "nbformat": 4,
 "nbformat_minor": 4
}
