{
 "cells": [
  {
   "cell_type": "code",
   "execution_count": null,
   "metadata": {},
   "outputs": [],
   "source": [
    "import sys\n",
    "sys.path.insert(0, '../')\n",
    "import geopandas\n",
    "import pandas as pd\n",
    "import matplotlib.pyplot as plt\n",
    "from adjustText import adjust_text\n",
    "from shapely.geometry import Point\n",
    "from src.config import PARAM, PATH_RESOURCES, PATH_RESULTS\n",
    "from src.geo_data import load_geonames"
   ]
  },
  {
   "cell_type": "code",
   "execution_count": null,
   "metadata": {},
   "outputs": [],
   "source": [
    "map_ = geopandas.read_file(PATH_RESOURCES / 'shapefiles/nl_cbs_provincies_2018')\n",
    "map_.crs"
   ]
  },
  {
   "cell_type": "code",
   "execution_count": null,
   "metadata": {},
   "outputs": [],
   "source": [
    "df_geo_ = load_geonames()"
   ]
  },
  {
   "cell_type": "code",
   "execution_count": null,
   "metadata": {},
   "outputs": [],
   "source": [
    "df_geo = df_geo_.query(\"country_code == 'NL'\").copy()"
   ]
  },
  {
   "cell_type": "code",
   "execution_count": null,
   "metadata": {},
   "outputs": [],
   "source": [
    "geometry = [Point(xy) for xy in zip(df_geo.longitude, df_geo.latitude)]\n",
    "crs = {'init' :'epsg:4326'}\n",
    "gdf_ = geopandas.GeoDataFrame(df_geo, crs=crs, geometry=geometry)\n",
    "gdf_ = gdf_.to_crs({'init' :'epsg:28992'})"
   ]
  },
  {
   "cell_type": "code",
   "execution_count": null,
   "metadata": {},
   "outputs": [],
   "source": [
    "fig, ax = plt.subplots(figsize=(10,10))\n",
    "map_.plot(ax=ax, color='lightyellow', edgecolor='lightgray')\n",
    "scatter = gdf_.plot(\n",
    "    ax=ax, \n",
    "    marker='o', \n",
    "    color='black', \n",
    "    alpha=0.5, \n",
    "    markersize=2\n",
    "    )\n",
    "ax.set_title('Distributie plaatsnamen', fontdict={'fontsize':24})\n",
    "plt.tight_layout()"
   ]
  },
  {
   "cell_type": "code",
   "execution_count": null,
   "metadata": {},
   "outputs": [],
   "source": [
    "df_attr_counts = pd.read_pickle('../results/df_attribute_counts.pkl')\n",
    "df = df_attr_counts.xs('places_nl', level=0)\n",
    "df = df.append(df_attr_counts.xs('places_fr', level=0))\n",
    "df = df.rename(columns={'index': 'naam'})\n",
    "\n",
    "df_annotations = pd.read_pickle(PATH_RESULTS / 'df_annotations_places_nl.pkl')\n",
    "df_annotations = df_annotations.append(pd.read_pickle(PATH_RESULTS / 'df_annotations_places_fr.pkl'))\n",
    "df_annotations['positive'] = df_annotations.annotation == '+'\n",
    "positives = df_annotations.groupby('phrase')['positive'].any()\n",
    "\n",
    "df_ = df[df.index.isin(positives[positives].index)]"
   ]
  },
  {
   "cell_type": "code",
   "execution_count": null,
   "metadata": {},
   "outputs": [],
   "source": [
    "gdf = gdf_.merge(df_, how='left', left_on='alternate_name', right_index=True)"
   ]
  },
  {
   "cell_type": "code",
   "execution_count": null,
   "metadata": {},
   "outputs": [],
   "source": [
    "factor = 15\n",
    "thrshld = 5\n",
    "fig, axs = plt.subplots(2, 2, sharex=True, sharey=True, figsize=(24, 28))\n",
    "for ax, batch in zip(axs.reshape(-1), PARAM.lexisnexis.batches):\n",
    "    map_.plot(ax=ax, color='lightyellow', edgecolor='lightgray')\n",
    "    scatter = gdf.plot(\n",
    "        ax=ax, \n",
    "        marker='o', \n",
    "        color='red', \n",
    "        alpha=0.5, \n",
    "        markersize=gdf[batch].fillna(0) * factor\n",
    "        )\n",
    "    kw = dict(\n",
    "        prop=\"sizes\",\n",
    "        num=[1,10,50,200],\n",
    "        color='red',\n",
    "        alpha=0.5,\n",
    "        func=lambda s: s/factor,\n",
    "        )\n",
    "    legend = ax.legend(\n",
    "        *scatter.collections[1].legend_elements(**kw),\n",
    "        loc=\"upper left\",\n",
    "        borderpad=2.0,\n",
    "        labelspacing=4.5,\n",
    "        handletextpad=2.0,\n",
    "        frameon=False,\n",
    "        )\n",
    "    ax.set_title(batch, fontdict={'fontsize':24})\n",
    "    \n",
    "    rows = gdf.loc[gdf[batch] >= thrshld].dropna(subset=[batch])\n",
    "    texts = [\n",
    "        ax.text(\n",
    "            row['geometry'].x, \n",
    "            row['geometry'].y, \n",
    "            row['alternate_name'], \n",
    "            ha='center', \n",
    "            va='center',\n",
    "            fontsize=14,\n",
    "            ) for _, row in rows.iterrows()\n",
    "        ]\n",
    "    adjust_text(texts, ax=ax)\n",
    "plt.tight_layout()"
   ]
  }
 ],
 "metadata": {
  "kernelspec": {
   "display_name": "place-extraction",
   "language": "python",
   "name": "place-extraction"
  },
  "language_info": {
   "codemirror_mode": {
    "name": "ipython",
    "version": 3
   },
   "file_extension": ".py",
   "mimetype": "text/x-python",
   "name": "python",
   "nbconvert_exporter": "python",
   "pygments_lexer": "ipython3",
   "version": "3.7.3"
  }
 },
 "nbformat": 4,
 "nbformat_minor": 2
}
