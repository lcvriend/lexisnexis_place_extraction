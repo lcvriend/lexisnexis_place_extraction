{
 "cells": [
  {
   "cell_type": "code",
   "execution_count": null,
   "metadata": {},
   "outputs": [],
   "source": [
    "import sys\n",
    "sys.path.insert(0, '../')"
   ]
  },
  {
   "cell_type": "code",
   "execution_count": null,
   "metadata": {},
   "outputs": [],
   "source": [
    "import pandas as pd\n",
    "from src.config_ import PATHS\n",
    "from src.doc_analysis import load_lexisnexis_data\n",
    "from src.annotation_tools import PhraseAnnotator"
   ]
  },
  {
   "cell_type": "code",
   "execution_count": null,
   "metadata": {},
   "outputs": [],
   "source": [
    "# load datasets\n",
    "df = load_lexisnexis_data()\n",
    "df_geo = pd.read_pickle(PATHS.resources / 'geonames/df_geonames.pkl')\n",
    "\n",
    "entity = 'places_nl'\n",
    "df_results = pd.read_pickle(PATHS.results / 'df_counts_totals.pkl')\n",
    "df_places = df_results.xs(entity, level=0).sort_index()\n",
    "\n",
    "# load annotator\n",
    "annotator = PhraseAnnotator((df, 'body_str'), info=(df_geo, 'alternate_name'))\n",
    "path = PATHS.results / f\"df_annotations_{entity}.pkl\"\n",
    "if path.exists():\n",
    "    df_annotations = pd.read_pickle(path)\n",
    "    annotator.from_dataframe(df_annotations)"
   ]
  },
  {
   "cell_type": "code",
   "execution_count": null,
   "metadata": {},
   "outputs": [],
   "source": [
    "annotator(df_places.index)"
   ]
  },
  {
   "cell_type": "code",
   "execution_count": null,
   "metadata": {},
   "outputs": [],
   "source": [
    "df_annotations = annotator.to_dataframe()\n",
    "df_annotations.to_pickle(path)"
   ]
  }
 ],
 "metadata": {
  "kernelspec": {
   "display_name": "place-extraction",
   "language": "python",
   "name": "place-extraction"
  },
  "language_info": {
   "codemirror_mode": {
    "name": "ipython",
    "version": 3
   },
   "file_extension": ".py",
   "mimetype": "text/x-python",
   "name": "python",
   "nbconvert_exporter": "python",
   "pygments_lexer": "ipython3",
   "version": "3.7.3"
  }
 },
 "nbformat": 4,
 "nbformat_minor": 4
}
