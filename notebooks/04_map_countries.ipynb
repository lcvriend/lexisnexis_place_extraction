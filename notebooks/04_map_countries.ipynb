{
 "cells": [
  {
   "cell_type": "code",
   "execution_count": null,
   "metadata": {},
   "outputs": [],
   "source": [
    "import sys\n",
    "sys.path.insert(0, '../')\n",
    "import json\n",
    "import geopandas\n",
    "import pandas as pd\n",
    "import matplotlib.pyplot as plt\n",
    "from mpl_toolkits.axes_grid1 import make_axes_locatable\n",
    "from shapely.geometry import Point\n",
    "from src.config import PARAM, PATH_SHAPES, PATH_RESULTS\n",
    "from src.geo_data import load_rest_countries"
   ]
  },
  {
   "cell_type": "code",
   "execution_count": null,
   "metadata": {},
   "outputs": [],
   "source": [
    "loc = 'world'\n",
    "basemap = geopandas.read_file(PATH_SHAPES / loc)\n",
    "basemap = basemap[basemap.CNTR_ID != 'AQ']\n",
    "basemap = basemap.to_crs({'init': 'epsg:3395'}) # mercator"
   ]
  },
  {
   "cell_type": "code",
   "execution_count": null,
   "metadata": {},
   "outputs": [],
   "source": [
    "countries = load_rest_countries()\n",
    "with open('../alts_countries.json', 'r') as f:\n",
    "    alts = json.loads(f.read())"
   ]
  },
  {
   "cell_type": "code",
   "execution_count": null,
   "metadata": {},
   "outputs": [],
   "source": [
    "df = pd.read_pickle(PATH_RESULTS / 'df_counts_totals.pkl').xs('countries', level=0)\n",
    "df = df.rename(columns={'index': 'naam'})\n",
    "\n",
    "def rename_alts(x, alts):    \n",
    "    for key in alts:\n",
    "        if x in alts[key]:\n",
    "            return key\n",
    "    return x\n",
    "\n",
    "df = df.reset_index()\n",
    "df['index'] = df['index'].apply(lambda x: rename_alts(x, alts))\n",
    "df = df.groupby('index').sum().reset_index()\n",
    "df['CNTR_ID'] = df['index'].apply(lambda i: countries[i]['alpha2Code'])\n",
    "df.loc[df['CNTR_ID'] == 'GB', 'CNTR_ID'] = 'UK'"
   ]
  },
  {
   "cell_type": "code",
   "execution_count": null,
   "metadata": {},
   "outputs": [],
   "source": [
    "chloro = basemap.merge(df, on='CNTR_ID')"
   ]
  },
  {
   "cell_type": "code",
   "execution_count": null,
   "metadata": {},
   "outputs": [],
   "source": [
    "fig, axs = plt.subplots(4, 1, sharex=True, sharey=True, figsize=(32, 48))\n",
    "for ax, batch in zip(axs.reshape(-1), PARAM.lexisnexis.batches):\n",
    "    divider = make_axes_locatable(ax)\n",
    "    cax = divider.append_axes(\"right\", size=\"2%\", pad=0.1)\n",
    "    basemap.plot(ax=ax, color='w', edgecolor='lightgray')\n",
    "    chloro.loc[chloro[batch] > 0].plot(column=batch, ax=ax, cmap='OrRd', legend=True, cax=cax)\n",
    "    ax.set_title(batch, fontdict={'fontsize':24})\n",
    "plt.savefig(PATH_RESULTS / f\"countries_world.png\")\n",
    "plt.tight_layout() "
   ]
  },
  {
   "cell_type": "code",
   "execution_count": null,
   "metadata": {},
   "outputs": [],
   "source": [
    "n=1e7\n",
    "limitx = [-0.2 * n, 0.5 * n]\n",
    "limity = [0.35 * n, 1.15 * n]\n",
    "\n",
    "fig, axs = plt.subplots(2, 2, sharex=True, sharey=True, figsize=(28, 32))\n",
    "for ax, batch in zip(axs.reshape(-1), PARAM.lexisnexis.batches):\n",
    "    ax.set_xlim(limitx)\n",
    "    ax.set_ylim(limity)\n",
    "    \n",
    "    divider = make_axes_locatable(ax)\n",
    "    cax = divider.append_axes(\"right\", size=\"2%\", pad=0.1)\n",
    "    basemap.plot(ax=ax, color='w', edgecolor='lightgray')\n",
    "    chloro.loc[chloro[batch] > 0].plot(column=batch, ax=ax, cmap='OrRd', legend=True, cax=cax)\n",
    "    ax.set_title(batch, fontdict={'fontsize':24})\n",
    "plt.savefig(PATH_RESULTS / f\"countries_europe.png\")\n",
    "plt.tight_layout() "
   ]
  }
 ],
 "metadata": {
  "kernelspec": {
   "display_name": "place-extraction",
   "language": "python",
   "name": "place-extraction"
  },
  "language_info": {
   "codemirror_mode": {
    "name": "ipython",
    "version": 3
   },
   "file_extension": ".py",
   "mimetype": "text/x-python",
   "name": "python",
   "nbconvert_exporter": "python",
   "pygments_lexer": "ipython3",
   "version": "3.7.3"
  }
 },
 "nbformat": 4,
 "nbformat_minor": 4
}
