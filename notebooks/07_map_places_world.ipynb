{
 "cells": [
  {
   "cell_type": "code",
   "execution_count": null,
   "metadata": {},
   "outputs": [],
   "source": [
    "import sys\n",
    "sys.path.insert(0, '../')\n",
    "import geopandas\n",
    "import pandas as pd\n",
    "import matplotlib.pyplot as plt\n",
    "from adjustText import adjust_text\n",
    "from shapely.geometry import Point\n",
    "from src.config import PARAM, PATH_RESOURCES, PATH_RESULTS\n",
    "from src.geo_data import load_geonames"
   ]
  },
  {
   "cell_type": "code",
   "execution_count": null,
   "metadata": {},
   "outputs": [],
   "source": [
    "map_ = geopandas.read_file(PATH_RESOURCES / 'shapefiles/ref-countries-2016-01m.shp/CNTR_RG_01M_2016_3857.shp')\n",
    "map_ = map_[map_.CNTR_ID != 'AQ']\n",
    "map_.crs"
   ]
  },
  {
   "cell_type": "code",
   "execution_count": null,
   "metadata": {},
   "outputs": [],
   "source": [
    "df_geo_ = load_geonames()"
   ]
  },
  {
   "cell_type": "code",
   "execution_count": null,
   "metadata": {},
   "outputs": [],
   "source": [
    "countries = ['GB', 'NL']\n",
    "df_geo = df_geo_.query(\"country_code not in @countries\").copy()"
   ]
  },
  {
   "cell_type": "code",
   "execution_count": null,
   "metadata": {},
   "outputs": [],
   "source": [
    "geometry = [Point(xy) for xy in zip(df_geo.longitude, df_geo.latitude)]\n",
    "crs = {'init' :'epsg:4326'}\n",
    "gdf_ = geopandas.GeoDataFrame(df_geo, crs=crs, geometry=geometry)\n",
    "gdf_ = gdf_.to_crs({'init' :'epsg:3857'})"
   ]
  },
  {
   "cell_type": "code",
   "execution_count": null,
   "metadata": {},
   "outputs": [],
   "source": [
    "fig, ax = plt.subplots(figsize=(20,20))\n",
    "map_.plot(ax=ax, color='lightyellow', edgecolor='lightgray')\n",
    "scatter = gdf_.plot(\n",
    "    ax=ax, \n",
    "    marker='o', \n",
    "    color='black', \n",
    "    alpha=0.5, \n",
    "    markersize=1\n",
    "    )\n",
    "ax.set_title('Distributie plaatsnamen', fontdict={'fontsize':24})\n",
    "plt.tight_layout()"
   ]
  },
  {
   "cell_type": "code",
   "execution_count": null,
   "metadata": {},
   "outputs": [],
   "source": [
    "df = pd.read_pickle(PATH_RESULTS / 'df_attribute_counts.pkl').xs('places', level=0)\n",
    "df = df.rename(columns={'index': 'naam'})\n",
    "\n",
    "df_annotations = pd.read_pickle(PATH_RESULTS / 'df_annotations_places.pkl')\n",
    "df_annotations['positive'] = df_annotations.annotation == '+'\n",
    "positives = df_annotations.groupby('phrase')['positive'].any()\n",
    "\n",
    "df_ = df[df.index.isin(positives[positives].index)]"
   ]
  },
  {
   "cell_type": "code",
   "execution_count": null,
   "metadata": {},
   "outputs": [],
   "source": [
    "gdf = gdf_.merge(df_, how='inner', left_on='alternate_name', right_index=True)\n",
    "gdf = gdf.sort_values(\n",
    "    ['alternate_name', 'population'],\n",
    "    ascending=False\n",
    "    ).drop_duplicates(\n",
    "        subset='alternate_name',\n",
    "        keep='first'\n",
    "        )"
   ]
  },
  {
   "cell_type": "code",
   "execution_count": null,
   "metadata": {},
   "outputs": [],
   "source": [
    "thrshld = 10\n",
    "factor = 5\n",
    "\n",
    "for batch in PARAM.lexisnexis.batches:\n",
    "    fig, ax = plt.subplots(figsize=(20,20))\n",
    "    map_.plot(ax=ax, color='lightyellow', edgecolor='lightgray')\n",
    "    scatter = gdf.plot(\n",
    "        ax=ax, \n",
    "        marker='o', \n",
    "        color='red', \n",
    "        alpha=0.5, \n",
    "        markersize=gdf[batch].fillna(0) * factor\n",
    "        )\n",
    "    kw = dict(\n",
    "        prop=\"sizes\",\n",
    "        num=[1,10,50,200],\n",
    "        color='red',\n",
    "        alpha=0.5,\n",
    "        func=lambda s: s/factor,\n",
    "        )\n",
    "    legend = ax.legend(\n",
    "        *scatter.collections[1].legend_elements(**kw),\n",
    "        loc=\"upper left\",\n",
    "        borderpad=2.0,\n",
    "        labelspacing=4.5,\n",
    "        handletextpad=2.0,\n",
    "        frameon=False,\n",
    "        )\n",
    "    ax.set_title(batch, fontdict={'fontsize':24})    \n",
    "    rows = gdf.loc[gdf[batch] >= thrshld].dropna(subset=[batch])\n",
    "    texts = [\n",
    "        ax.text(\n",
    "            row['geometry'].x, \n",
    "            row['geometry'].y, \n",
    "            row['alternate_name'], \n",
    "            ha='center', \n",
    "            va='center',\n",
    "            fontsize=12,\n",
    "            ) for _, row in rows.iterrows()\n",
    "        ]\n",
    "    adjust_text(texts, ax=ax)\n",
    "    plt.tight_layout()"
   ]
  },
  {
   "cell_type": "code",
   "execution_count": null,
   "metadata": {},
   "outputs": [],
   "source": [
    "n=1e7\n",
    "limitx = [-0.2 * n, 0.5 * n]\n",
    "limity = [0.35 * n, 1.15 * n]\n",
    "\n",
    "factor = 12\n",
    "thrshld = 5\n",
    "fig, axs = plt.subplots(2, 2, sharex=True, sharey=True, figsize=(20, 20))\n",
    "for ax, batch in zip(axs.reshape(-1), PARAM.lexisnexis.batches):\n",
    "    ax.set_xlim(limitx)\n",
    "    ax.set_ylim(limity)\n",
    "    \n",
    "    map_.plot(ax=ax, color='lightyellow', edgecolor='lightgray')\n",
    "    scatter = gdf.plot(\n",
    "        ax=ax, \n",
    "        marker='o', \n",
    "        color='red', \n",
    "        alpha=0.5, \n",
    "        markersize=gdf[batch].fillna(0) * factor\n",
    "        )\n",
    "    kw = dict(\n",
    "        prop=\"sizes\",\n",
    "        num=[1,10,50,200],\n",
    "        color='red',\n",
    "        alpha=0.5,\n",
    "        func=lambda s: s/factor,\n",
    "        )\n",
    "    legend = ax.legend(\n",
    "        *scatter.collections[1].legend_elements(**kw),\n",
    "        loc=\"upper left\",\n",
    "        borderpad=2.0,\n",
    "        labelspacing=4.5,\n",
    "        handletextpad=2.0,\n",
    "        frameon=False,\n",
    "        )\n",
    "    ax.set_title(batch, fontdict={'fontsize':24})    \n",
    "    rows = gdf.loc[gdf[batch] >= thrshld].dropna(subset=[batch])\n",
    "    texts = [\n",
    "        ax.text(\n",
    "            row['geometry'].x, \n",
    "            row['geometry'].y, \n",
    "            row['alternate_name'], \n",
    "            ha='center', \n",
    "            va='center',\n",
    "            fontsize=12,\n",
    "            ) for _, row in rows.iterrows()\n",
    "        ]\n",
    "    adjust_text(texts, ax=ax)\n",
    "plt.tight_layout()"
   ]
  }
 ],
 "metadata": {
  "kernelspec": {
   "display_name": "place-extraction",
   "language": "python",
   "name": "place-extraction"
  },
  "language_info": {
   "codemirror_mode": {
    "name": "ipython",
    "version": 3
   },
   "file_extension": ".py",
   "mimetype": "text/x-python",
   "name": "python",
   "nbconvert_exporter": "python",
   "pygments_lexer": "ipython3",
   "version": "3.7.3"
  }
 },
 "nbformat": 4,
 "nbformat_minor": 2
}
