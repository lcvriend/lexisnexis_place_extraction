{
 "nbformat": 4,
 "nbformat_minor": 2,
 "metadata": {
  "language_info": {
   "name": "python",
   "codemirror_mode": {
    "name": "ipython",
    "version": 3
   },
   "version": "3.7.6-final"
  },
  "orig_nbformat": 2,
  "file_extension": ".py",
  "mimetype": "text/x-python",
  "name": "python",
  "npconvert_exporter": "python",
  "pygments_lexer": "ipython3",
  "version": 3,
  "kernelspec": {
   "name": "place-extraction",
   "display_name": "place-extraction"
  }
 },
 "cells": [
  {
   "cell_type": "markdown",
   "metadata": {},
   "source": [
    "# Toponym extraction\n",
    "## Explore results\n",
    "### Toponyms in news on Brexit in Dutch newspapers\n",
    "\n",
    "Explore the results from this [case study](https://lcvriend.github.io/toponym_extraction/) in this notebook.  \n",
    "Load the datasets and see the examples below.  \n",
    "Run cells with `ctrl-enter`."
   ]
  },
  {
   "cell_type": "code",
   "execution_count": 1,
   "metadata": {},
   "outputs": [
    {
     "name": "stdout",
     "output_type": "stream",
     "text": "/media/vanboefer/DATA/projects/lc/lexisnexis_place_extraction\n"
    }
   ],
   "source": [
    "%cd ..\n",
    "import pandas as pd\n",
    "import altair as alt\n",
    "from src.doc_analysis import most_common, load_counts\n",
    "from src.config import LEXISNEXIS"
   ]
  },
  {
   "cell_type": "markdown",
   "metadata": {},
   "source": [
    "### Load datasets\n",
    "Load all datasets as `DataFrames` here.\n",
    "* `lexis` refers to the meta data from the LexisNexis dataset.\n",
    "* `toponym` refers to the dataset with the results from the toponym recognition.\n",
    "* `lemmata` refers to the dataset with the results from the lemma recognition."
   ]
  },
  {
   "cell_type": "code",
   "execution_count": 2,
   "metadata": {},
   "outputs": [],
   "source": [
    "lexis = pd.read_csv(\"data/lexisnexis_dataset.csv\").astype({'publication_date': 'datetime64[ns]'})\n",
    "toponym = pd.read_csv(\"results/toponym_results.gz\", index_col=[0,1], header=[0,1])\n",
    "lemmata = pd.read_csv(\"results/lemmata_results.gz\", index_col=[0,1], header=[0,1])"
   ]
  },
  {
   "cell_type": "markdown",
   "metadata": {},
   "source": [
    "### General"
   ]
  },
  {
   "cell_type": "code",
   "execution_count": 3,
   "metadata": {},
   "outputs": [
    {
     "data": {
      "text/html": "<div>\n<style scoped>\n    .dataframe tbody tr th:only-of-type {\n        vertical-align: middle;\n    }\n\n    .dataframe tbody tr th {\n        vertical-align: top;\n    }\n\n    .dataframe thead th {\n        text-align: right;\n    }\n</style>\n<table border=\"1\" class=\"dataframe\">\n  <thead>\n    <tr style=\"text-align: right;\">\n      <th></th>\n      <th>articles</th>\n    </tr>\n    <tr>\n      <th>source</th>\n      <th></th>\n    </tr>\n  </thead>\n  <tbody>\n    <tr>\n      <th>Leeuwarder Courant</th>\n      <td>276</td>\n    </tr>\n    <tr>\n      <th>Telegraaf</th>\n      <td>488</td>\n    </tr>\n    <tr>\n      <th>Trouw</th>\n      <td>485</td>\n    </tr>\n    <tr>\n      <th>Volkskrant</th>\n      <td>581</td>\n    </tr>\n  </tbody>\n</table>\n</div>",
      "text/plain": "                    articles\nsource                      \nLeeuwarder Courant       276\nTelegraaf                488\nTrouw                    485\nVolkskrant               581"
     },
     "execution_count": 3,
     "metadata": {},
     "output_type": "execute_result"
    }
   ],
   "source": [
    "# number of articles\n",
    "lexis.pivot_table(\n",
    "    index='source',\n",
    "    aggfunc='count',\n",
    "    values='id').rename(columns={'id': 'articles'})"
   ]
  },
  {
   "cell_type": "code",
   "execution_count": 4,
   "metadata": {},
   "outputs": [
    {
     "data": {
      "text/html": "\n<div id=\"altair-viz-7041c8b6782c46b0b5892117b386c275\"></div>\n<script type=\"text/javascript\">\n  (function(spec, embedOpt){\n    const outputDiv = document.getElementById(\"altair-viz-7041c8b6782c46b0b5892117b386c275\");\n    const paths = {\n      \"vega\": \"https://cdn.jsdelivr.net/npm//vega@5?noext\",\n      \"vega-lib\": \"https://cdn.jsdelivr.net/npm//vega-lib?noext\",\n      \"vega-lite\": \"https://cdn.jsdelivr.net/npm//vega-lite@4.0.2?noext\",\n      \"vega-embed\": \"https://cdn.jsdelivr.net/npm//vega-embed@6?noext\",\n    };\n\n    function loadScript(lib) {\n      return new Promise(function(resolve, reject) {\n        var s = document.createElement('script');\n        s.src = paths[lib];\n        s.async = true;\n        s.onload = () => resolve(paths[lib]);\n        s.onerror = () => reject(`Error loading script: ${paths[lib]}`);\n        document.getElementsByTagName(\"head\")[0].appendChild(s);\n      });\n    }\n\n    function showError(err) {\n      outputDiv.innerHTML = `<div class=\"error\" style=\"color:red;\">${err}</div>`;\n      throw err;\n    }\n\n    function displayChart(vegaEmbed) {\n      vegaEmbed(outputDiv, spec, embedOpt)\n        .catch(err => showError(`Javascript Error: ${err.message}<br>This usually means there's a typo in your chart specification. See the javascript console for the full traceback.`));\n    }\n\n    if(typeof define === \"function\" && define.amd) {\n      requirejs.config({paths});\n      require([\"vega-embed\"], displayChart, err => showError(`Error loading script: ${err.message}`));\n    } else if (typeof vegaEmbed === \"function\") {\n      displayChart(vegaEmbed);\n    } else {\n      loadScript(\"vega\")\n        .then(() => loadScript(\"vega-lite\"))\n        .then(() => loadScript(\"vega-embed\"))\n        .catch(showError)\n        .then(() => displayChart(vegaEmbed));\n    }\n  })({\"config\": {\"view\": {\"continuousWidth\": 400, \"continuousHeight\": 300}}, \"data\": {\"name\": \"data-88e6c5512637fafe326a585ba3fc647a\"}, \"mark\": \"bar\", \"encoding\": {\"color\": {\"type\": \"nominal\", \"field\": \"source\", \"legend\": null}, \"x\": {\"type\": \"quantitative\", \"field\": \"n_tokens\", \"title\": \"average number of tokens per article\"}, \"y\": {\"type\": \"nominal\", \"field\": \"source\"}}, \"$schema\": \"https://vega.github.io/schema/vega-lite/v4.0.2.json\", \"datasets\": {\"data-88e6c5512637fafe326a585ba3fc647a\": [{\"source\": \"Leeuwarder Courant\", \"n_tokens\": 566.1847826086956}, {\"source\": \"Telegraaf\", \"n_tokens\": 487.28483606557376}, {\"source\": \"Trouw\", \"n_tokens\": 779.0639175257731}, {\"source\": \"Volkskrant\", \"n_tokens\": 864.2650602409639}]}}, {\"mode\": \"vega-lite\"});\n</script>",
      "text/plain": "alt.Chart(...)"
     },
     "execution_count": 4,
     "metadata": {},
     "output_type": "execute_result"
    }
   ],
   "source": [
    "# average number of tokens per article\n",
    "data = lexis.pivot_table(\n",
    "    index='source',\n",
    "    aggfunc='mean',\n",
    "    values='n_tokens')\n",
    "alt.Chart(data.reset_index()).mark_bar().encode(\n",
    "    x=alt.X('n_tokens', title='average number of tokens per article'),\n",
    "    y='source',\n",
    "    color=alt.Color('source', legend=None)\n",
    ")"
   ]
  },
  {
   "cell_type": "markdown",
   "metadata": {},
   "source": [
    "### Most common lemmata and toponyms\n",
    "Select by:\n",
    "* **Indicator**: 'frequency' or 'articles'\n",
    "* **Category**: 'countries', 'places', 'places_uk', 'places_nl', 'places_fr'"
   ]
  },
  {
   "cell_type": "code",
   "execution_count": 5,
   "metadata": {},
   "outputs": [
    {
     "data": {
      "text/html": "<div>\n<style scoped>\n    .dataframe tbody tr th:only-of-type {\n        vertical-align: middle;\n    }\n\n    .dataframe tbody tr th {\n        vertical-align: top;\n    }\n\n    .dataframe thead tr th {\n        text-align: left;\n    }\n\n    .dataframe thead tr:last-of-type th {\n        text-align: right;\n    }\n</style>\n<table border=\"1\" class=\"dataframe\">\n  <thead>\n    <tr>\n      <th></th>\n      <th colspan=\"2\" halign=\"left\">volkskrant</th>\n      <th colspan=\"2\" halign=\"left\">trouw</th>\n      <th colspan=\"2\" halign=\"left\">telegraaf</th>\n      <th colspan=\"2\" halign=\"left\">leeuwarder_courant</th>\n    </tr>\n    <tr>\n      <th></th>\n      <th>label</th>\n      <th>count</th>\n      <th>label</th>\n      <th>count</th>\n      <th>label</th>\n      <th>count</th>\n      <th>label</th>\n      <th>count</th>\n    </tr>\n    <tr>\n      <th>ranking</th>\n      <th></th>\n      <th></th>\n      <th></th>\n      <th></th>\n      <th></th>\n      <th></th>\n      <th></th>\n      <th></th>\n    </tr>\n  </thead>\n  <tbody>\n    <tr>\n      <th>0</th>\n      <td>gaan</td>\n      <td>1494</td>\n      <td>eu</td>\n      <td>1361</td>\n      <td>brexit</td>\n      <td>928</td>\n      <td>brexit</td>\n      <td>531</td>\n    </tr>\n    <tr>\n      <th>1</th>\n      <td>eu</td>\n      <td>1355</td>\n      <td>gaan</td>\n      <td>1165</td>\n      <td>gaan</td>\n      <td>859</td>\n      <td>gaan</td>\n      <td>486</td>\n    </tr>\n    <tr>\n      <th>2</th>\n      <td>brexit</td>\n      <td>1295</td>\n      <td>brexit</td>\n      <td>1140</td>\n      <td>eu</td>\n      <td>823</td>\n      <td>jaar</td>\n      <td>464</td>\n    </tr>\n    <tr>\n      <th>3</th>\n      <td>jaar</td>\n      <td>1261</td>\n      <td>jaar</td>\n      <td>1133</td>\n      <td>jaar</td>\n      <td>755</td>\n      <td>komen</td>\n      <td>434</td>\n    </tr>\n    <tr>\n      <th>4</th>\n      <td>komen</td>\n      <td>1237</td>\n      <td>komen</td>\n      <td>1049</td>\n      <td>komen</td>\n      <td>695</td>\n      <td>eu</td>\n      <td>434</td>\n    </tr>\n    <tr>\n      <th>5</th>\n      <td>groot</td>\n      <td>1229</td>\n      <td>groot</td>\n      <td>1039</td>\n      <td>brits</td>\n      <td>671</td>\n      <td>groot</td>\n      <td>424</td>\n    </tr>\n    <tr>\n      <th>6</th>\n      <td>europees</td>\n      <td>1160</td>\n      <td>land</td>\n      <td>1025</td>\n      <td>groot</td>\n      <td>573</td>\n      <td>may</td>\n      <td>394</td>\n    </tr>\n    <tr>\n      <th>7</th>\n      <td>maken</td>\n      <td>953</td>\n      <td>europees</td>\n      <td>852</td>\n      <td>europees</td>\n      <td>488</td>\n      <td>brits</td>\n      <td>365</td>\n    </tr>\n    <tr>\n      <th>8</th>\n      <td>zeggen</td>\n      <td>926</td>\n      <td>brits</td>\n      <td>822</td>\n      <td>goed</td>\n      <td>472</td>\n      <td>europees</td>\n      <td>340</td>\n    </tr>\n    <tr>\n      <th>9</th>\n      <td>land</td>\n      <td>860</td>\n      <td>maken</td>\n      <td>704</td>\n      <td>land</td>\n      <td>466</td>\n      <td>partij</td>\n      <td>314</td>\n    </tr>\n  </tbody>\n</table>\n</div>",
      "text/plain": "        volkskrant           trouw       telegraaf       leeuwarder_courant  \\\n             label count     label count     label count              label   \nranking                                                                       \n0             gaan  1494        eu  1361    brexit   928             brexit   \n1               eu  1355      gaan  1165      gaan   859               gaan   \n2           brexit  1295    brexit  1140        eu   823               jaar   \n3             jaar  1261      jaar  1133      jaar   755              komen   \n4            komen  1237     komen  1049     komen   695                 eu   \n5            groot  1229     groot  1039     brits   671              groot   \n6         europees  1160      land  1025     groot   573                may   \n7            maken   953  europees   852  europees   488              brits   \n8           zeggen   926     brits   822      goed   472           europees   \n9             land   860     maken   704      land   466             partij   \n\n               \n        count  \nranking        \n0         531  \n1         486  \n2         464  \n3         434  \n4         434  \n5         424  \n6         394  \n7         365  \n8         340  \n9         314  "
     },
     "execution_count": 5,
     "metadata": {},
     "output_type": "execute_result"
    }
   ],
   "source": [
    "# ten most frequent lemmata\n",
    "most_common(lemmata.xs('frequency', axis=1, level=1), 'lemma')"
   ]
  },
  {
   "cell_type": "code",
   "execution_count": 6,
   "metadata": {},
   "outputs": [
    {
     "data": {
      "text/html": "<div>\n<style scoped>\n    .dataframe tbody tr th:only-of-type {\n        vertical-align: middle;\n    }\n\n    .dataframe tbody tr th {\n        vertical-align: top;\n    }\n\n    .dataframe thead tr th {\n        text-align: left;\n    }\n\n    .dataframe thead tr:last-of-type th {\n        text-align: right;\n    }\n</style>\n<table border=\"1\" class=\"dataframe\">\n  <thead>\n    <tr>\n      <th></th>\n      <th colspan=\"2\" halign=\"left\">volkskrant</th>\n      <th colspan=\"2\" halign=\"left\">trouw</th>\n      <th colspan=\"2\" halign=\"left\">telegraaf</th>\n      <th colspan=\"2\" halign=\"left\">leeuwarder_courant</th>\n    </tr>\n    <tr>\n      <th></th>\n      <th>label</th>\n      <th>count</th>\n      <th>label</th>\n      <th>count</th>\n      <th>label</th>\n      <th>count</th>\n      <th>label</th>\n      <th>count</th>\n    </tr>\n    <tr>\n      <th>ranking</th>\n      <th></th>\n      <th></th>\n      <th></th>\n      <th></th>\n      <th></th>\n      <th></th>\n      <th></th>\n      <th></th>\n    </tr>\n  </thead>\n  <tbody>\n    <tr>\n      <th>0</th>\n      <td>Verenigd Koninkrijk</td>\n      <td>446</td>\n      <td>Verenigd Koninkrijk</td>\n      <td>455</td>\n      <td>Verenigd Koninkrijk</td>\n      <td>283</td>\n      <td>Verenigd Koninkrijk</td>\n      <td>234</td>\n    </tr>\n    <tr>\n      <th>1</th>\n      <td>Nederland</td>\n      <td>218</td>\n      <td>Nederland</td>\n      <td>185</td>\n      <td>Nederland</td>\n      <td>161</td>\n      <td>Nederland</td>\n      <td>96</td>\n    </tr>\n    <tr>\n      <th>2</th>\n      <td>Verenigde Staten</td>\n      <td>159</td>\n      <td>Verenigde Staten</td>\n      <td>183</td>\n      <td>Verenigde Staten</td>\n      <td>91</td>\n      <td>Verenigde Staten</td>\n      <td>57</td>\n    </tr>\n    <tr>\n      <th>3</th>\n      <td>Duitsland</td>\n      <td>121</td>\n      <td>Duitsland</td>\n      <td>88</td>\n      <td>Duitsland</td>\n      <td>54</td>\n      <td>Duitsland</td>\n      <td>31</td>\n    </tr>\n    <tr>\n      <th>4</th>\n      <td>Frankrijk</td>\n      <td>114</td>\n      <td>Frankrijk</td>\n      <td>88</td>\n      <td>Frankrijk</td>\n      <td>53</td>\n      <td>Frankrijk</td>\n      <td>29</td>\n    </tr>\n    <tr>\n      <th>5</th>\n      <td>Polen</td>\n      <td>51</td>\n      <td>Ierland</td>\n      <td>51</td>\n      <td>China</td>\n      <td>31</td>\n      <td>Ierland</td>\n      <td>21</td>\n    </tr>\n    <tr>\n      <th>6</th>\n      <td>Rusland</td>\n      <td>46</td>\n      <td>Rusland</td>\n      <td>46</td>\n      <td>Ierland</td>\n      <td>30</td>\n      <td>China</td>\n      <td>12</td>\n    </tr>\n    <tr>\n      <th>7</th>\n      <td>Italië</td>\n      <td>44</td>\n      <td>China</td>\n      <td>45</td>\n      <td>België</td>\n      <td>23</td>\n      <td>Spanje</td>\n      <td>12</td>\n    </tr>\n    <tr>\n      <th>8</th>\n      <td>China</td>\n      <td>42</td>\n      <td>Polen</td>\n      <td>39</td>\n      <td>Italië</td>\n      <td>20</td>\n      <td>Japan</td>\n      <td>10</td>\n    </tr>\n    <tr>\n      <th>9</th>\n      <td>Ierland</td>\n      <td>41</td>\n      <td>Italië</td>\n      <td>38</td>\n      <td>Polen</td>\n      <td>19</td>\n      <td>Italië</td>\n      <td>10</td>\n    </tr>\n  </tbody>\n</table>\n</div>",
      "text/plain": "                  volkskrant                      trouw        \\\n                       label count                label count   \nranking                                                         \n0        Verenigd Koninkrijk   446  Verenigd Koninkrijk   455   \n1                  Nederland   218            Nederland   185   \n2           Verenigde Staten   159     Verenigde Staten   183   \n3                  Duitsland   121            Duitsland    88   \n4                  Frankrijk   114            Frankrijk    88   \n5                      Polen    51              Ierland    51   \n6                    Rusland    46              Rusland    46   \n7                     Italië    44                China    45   \n8                      China    42                Polen    39   \n9                    Ierland    41               Italië    38   \n\n                   telegraaf         leeuwarder_courant        \n                       label count                label count  \nranking                                                        \n0        Verenigd Koninkrijk   283  Verenigd Koninkrijk   234  \n1                  Nederland   161            Nederland    96  \n2           Verenigde Staten    91     Verenigde Staten    57  \n3                  Duitsland    54            Duitsland    31  \n4                  Frankrijk    53            Frankrijk    29  \n5                      China    31              Ierland    21  \n6                    Ierland    30                China    12  \n7                     België    23               Spanje    12  \n8                     Italië    20                Japan    10  \n9                      Polen    19               Italië    10  "
     },
     "execution_count": 6,
     "metadata": {},
     "output_type": "execute_result"
    }
   ],
   "source": [
    "# ten country toponyms occurring in the most articles\n",
    "most_common(toponym.xs('articles', axis=1, level=1), 'countries')"
   ]
  },
  {
   "cell_type": "code",
   "execution_count": 7,
   "metadata": {},
   "outputs": [
    {
     "data": {
      "text/html": "\n<div id=\"altair-viz-b3a823deabe44c2fabbb580f259b9633\"></div>\n<script type=\"text/javascript\">\n  (function(spec, embedOpt){\n    const outputDiv = document.getElementById(\"altair-viz-b3a823deabe44c2fabbb580f259b9633\");\n    const paths = {\n      \"vega\": \"https://cdn.jsdelivr.net/npm//vega@5?noext\",\n      \"vega-lib\": \"https://cdn.jsdelivr.net/npm//vega-lib?noext\",\n      \"vega-lite\": \"https://cdn.jsdelivr.net/npm//vega-lite@4.0.2?noext\",\n      \"vega-embed\": \"https://cdn.jsdelivr.net/npm//vega-embed@6?noext\",\n    };\n\n    function loadScript(lib) {\n      return new Promise(function(resolve, reject) {\n        var s = document.createElement('script');\n        s.src = paths[lib];\n        s.async = true;\n        s.onload = () => resolve(paths[lib]);\n        s.onerror = () => reject(`Error loading script: ${paths[lib]}`);\n        document.getElementsByTagName(\"head\")[0].appendChild(s);\n      });\n    }\n\n    function showError(err) {\n      outputDiv.innerHTML = `<div class=\"error\" style=\"color:red;\">${err}</div>`;\n      throw err;\n    }\n\n    function displayChart(vegaEmbed) {\n      vegaEmbed(outputDiv, spec, embedOpt)\n        .catch(err => showError(`Javascript Error: ${err.message}<br>This usually means there's a typo in your chart specification. See the javascript console for the full traceback.`));\n    }\n\n    if(typeof define === \"function\" && define.amd) {\n      requirejs.config({paths});\n      require([\"vega-embed\"], displayChart, err => showError(`Error loading script: ${err.message}`));\n    } else if (typeof vegaEmbed === \"function\") {\n      displayChart(vegaEmbed);\n    } else {\n      loadScript(\"vega\")\n        .then(() => loadScript(\"vega-lite\"))\n        .then(() => loadScript(\"vega-embed\"))\n        .catch(showError)\n        .then(() => displayChart(vegaEmbed));\n    }\n  })({\"config\": {\"view\": {\"continuousWidth\": 400, \"continuousHeight\": 300}}, \"data\": {\"name\": \"data-7d67fdc62c79283b34c724a65bc80068\"}, \"mark\": \"line\", \"encoding\": {\"x\": {\"type\": \"nominal\", \"field\": \"toponym\", \"sort\": \"y\"}, \"y\": {\"type\": \"quantitative\", \"aggregate\": \"sum\", \"field\": \"frequency\", \"scale\": {\"type\": \"log\"}, \"title\": \"total frequency\"}}, \"$schema\": \"https://vega.github.io/schema/vega-lite/v4.0.2.json\", \"datasets\": {\"data-7d67fdc62c79283b34c724a65bc80068\": [{\"ranking\": 0, \"source\": \"leeuwarder_courant\", \"frequency\": 122.0, \"toponym\": \"Londen\"}, {\"ranking\": 0, \"source\": \"telegraaf\", \"frequency\": 237.0, \"toponym\": \"Londen\"}, {\"ranking\": 0, \"source\": \"trouw\", \"frequency\": 317.0, \"toponym\": \"Londen\"}, {\"ranking\": 0, \"source\": \"volkskrant\", \"frequency\": 458.0, \"toponym\": \"Londen\"}, {\"ranking\": 1, \"source\": \"leeuwarder_courant\", \"frequency\": 12.0, \"toponym\": \"Belfast\"}, {\"ranking\": 1, \"source\": \"telegraaf\", \"frequency\": 23.0, \"toponym\": \"Blackpool\"}, {\"ranking\": 1, \"source\": \"trouw\", \"frequency\": 24.0, \"toponym\": \"Manchester\"}, {\"ranking\": 1, \"source\": \"volkskrant\", \"frequency\": 41.0, \"toponym\": \"Manchester\"}, {\"ranking\": 2, \"source\": \"leeuwarder_courant\", \"frequency\": 8.0, \"toponym\": \"Manchester\"}, {\"ranking\": 2, \"source\": \"telegraaf\", \"frequency\": 8.0, \"toponym\": \"Manchester\"}, {\"ranking\": 2, \"source\": \"trouw\", \"frequency\": 13.0, \"toponym\": \"Whitby\"}, {\"ranking\": 2, \"source\": \"volkskrant\", \"frequency\": 23.0, \"toponym\": \"Oxford\"}, {\"ranking\": 3, \"source\": \"leeuwarder_courant\", \"frequency\": 6.0, \"toponym\": \"Ebbw Vale\"}, {\"ranking\": 3, \"source\": \"telegraaf\", \"frequency\": 7.0, \"toponym\": \"Aberdeen\"}, {\"ranking\": 3, \"source\": \"trouw\", \"frequency\": 8.0, \"toponym\": \"Cambridge\"}, {\"ranking\": 3, \"source\": \"volkskrant\", \"frequency\": 23.0, \"toponym\": \"Bristol\"}, {\"ranking\": 4, \"source\": \"leeuwarder_courant\", \"frequency\": 3.0, \"toponym\": \"Liverpool\"}, {\"ranking\": 4, \"source\": \"telegraaf\", \"frequency\": 5.0, \"toponym\": \"Liverpool\"}, {\"ranking\": 4, \"source\": \"trouw\", \"frequency\": 8.0, \"toponym\": \"Dover\"}, {\"ranking\": 4, \"source\": \"volkskrant\", \"frequency\": 13.0, \"toponym\": \"Brighton\"}, {\"ranking\": 5, \"source\": \"leeuwarder_courant\", \"frequency\": 2.0, \"toponym\": \"Edinburgh\"}, {\"ranking\": 5, \"source\": \"telegraaf\", \"frequency\": 3.0, \"toponym\": \"Belfast\"}, {\"ranking\": 5, \"source\": \"trouw\", \"frequency\": 7.0, \"toponym\": \"Bristol\"}, {\"ranking\": 5, \"source\": \"volkskrant\", \"frequency\": 13.0, \"toponym\": \"Birmingham\"}, {\"ranking\": 6, \"source\": \"leeuwarder_courant\", \"frequency\": 2.0, \"toponym\": \"Oxford\"}, {\"ranking\": 6, \"source\": \"telegraaf\", \"frequency\": 3.0, \"toponym\": \"Bristol\"}, {\"ranking\": 6, \"source\": \"trouw\", \"frequency\": 7.0, \"toponym\": \"Belfast\"}, {\"ranking\": 6, \"source\": \"volkskrant\", \"frequency\": 12.0, \"toponym\": \"Dover\"}, {\"ranking\": 7, \"source\": \"leeuwarder_courant\", \"frequency\": 2.0, \"toponym\": \"Aberdeen\"}, {\"ranking\": 7, \"source\": \"telegraaf\", \"frequency\": 2.0, \"toponym\": \"Sheffield\"}, {\"ranking\": 7, \"source\": \"trouw\", \"frequency\": 7.0, \"toponym\": \"Birmingham\"}, {\"ranking\": 7, \"source\": \"volkskrant\", \"frequency\": 11.0, \"toponym\": \"Liverpool\"}, {\"ranking\": 8, \"source\": \"leeuwarder_courant\", \"frequency\": 1.0, \"toponym\": \"Bradford\"}, {\"ranking\": 8, \"source\": \"telegraaf\", \"frequency\": 2.0, \"toponym\": \"City of London\"}, {\"ranking\": 8, \"source\": \"trouw\", \"frequency\": 5.0, \"toponym\": \"Oxford\"}, {\"ranking\": 8, \"source\": \"volkskrant\", \"frequency\": 9.0, \"toponym\": \"Cambridge\"}, {\"ranking\": 9, \"source\": \"leeuwarder_courant\", \"frequency\": 1.0, \"toponym\": \"Luton\"}, {\"ranking\": 9, \"source\": \"telegraaf\", \"frequency\": 2.0, \"toponym\": \"Oxford\"}, {\"ranking\": 9, \"source\": \"trouw\", \"frequency\": 4.0, \"toponym\": \"West Bromwich\"}, {\"ranking\": 9, \"source\": \"volkskrant\", \"frequency\": 8.0, \"toponym\": \"Plymouth\"}]}}, {\"mode\": \"vega-lite\"});\n</script>",
      "text/plain": "alt.Chart(...)"
     },
     "execution_count": 7,
     "metadata": {},
     "output_type": "execute_result"
    }
   ],
   "source": [
    "# total frequency of uk toponyms\n",
    "data = (\n",
    "    most_common(\n",
    "        toponym.xs('frequency', axis=1, level=1), 'places_uk')\n",
    "    .stack(level=0)\n",
    "    .rename_axis(['ranking', 'source'])\n",
    "    .reset_index()\n",
    "    .rename(columns={'count': 'frequency', 'label': 'toponym'})\n",
    ")\n",
    "alt.Chart(data).mark_line().encode(\n",
    "    x=alt.X('toponym', sort='y'),\n",
    "    y=alt.Y(\n",
    "        'sum(frequency)',\n",
    "        title='total frequency', \n",
    "        scale=alt.Scale(type='log')\n",
    "    )\n",
    ")"
   ]
  }
 ]
}