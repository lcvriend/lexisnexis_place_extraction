{
 "cells": [
  {
   "cell_type": "code",
   "execution_count": null,
   "metadata": {},
   "outputs": [],
   "source": [
    "import sys\n",
    "sys.path.insert(0, '../')"
   ]
  },
  {
   "cell_type": "code",
   "execution_count": null,
   "metadata": {},
   "outputs": [],
   "source": [
    "import json\n",
    "from itertools import combinations\n",
    "\n",
    "import pandas as pd\n",
    "import spacy\n",
    "from spacy.pipeline import EntityRuler\n",
    "\n",
    "from src.config import PATH_RESOURCES, PATH_RESULTS, PATH_MODEL\n",
    "from src.geo_data import load_geonames, load_rest_countries, load_cbs_municipalities\n",
    "from src.doc_analysis import get_positives"
   ]
  },
  {
   "cell_type": "markdown",
   "metadata": {},
   "source": [
    "## Prepare geo entities"
   ]
  },
  {
   "cell_type": "code",
   "execution_count": null,
   "metadata": {},
   "outputs": [],
   "source": [
    "# load datasets\n",
    "countries = load_rest_countries(language='nl', alts_json='../alts_countries.json')\n",
    "geonames = load_geonames()\n",
    "\n",
    "# remove geonames that are also country names\n",
    "geonames = geonames.query(\"alternate_name not in @countries.keys()\")\n",
    "\n",
    "# store results\n",
    "geonames.to_pickle(PATH_RESOURCES / 'geonames/df_geonames.pkl')"
   ]
  },
  {
   "cell_type": "code",
   "execution_count": null,
   "metadata": {},
   "outputs": [],
   "source": [
    "exclude = ['GB', 'NL']\n",
    "topo = {\n",
    "    'countries': countries,\n",
    "    'places'   : geonames.query(\"country_code not in @exclude\").alternate_name.values,\n",
    "    'places_uk': geonames.query(\"country_code == 'GB'\").alternate_name.values,\n",
    "    'places_nl': geonames.query(\"country_code == 'NL' and admin_name1 != 'Friesland'\").alternate_name.values,\n",
    "    'places_fr': geonames.query(\"country_code == 'NL' and admin_name1 == 'Friesland'\").alternate_name.values,\n",
    "    }\n",
    "\n",
    "geo_ents = dict()\n",
    "for label in topo:\n",
    "    geo_ents[label] = [{'label': label, 'pattern': p} for p in topo[label]]"
   ]
  },
  {
   "cell_type": "markdown",
   "metadata": {},
   "source": [
    "## Check for duplicates between geo_ent collections"
   ]
  },
  {
   "cell_type": "code",
   "execution_count": null,
   "metadata": {},
   "outputs": [],
   "source": [
    "problems = dict()\n",
    "place_names = dict()\n",
    "for key in geo_ents:\n",
    "    ent_set = set()\n",
    "    for d in geo_ents[key]:\n",
    "        ent_set.add(d['pattern'])\n",
    "    place_names[key] = ent_set\n",
    "    \n",
    "for key1, key2 in list(combinations(place_names, r=2)):\n",
    "    if place_names[key1] & place_names[key2]:\n",
    "        new_key = f\"{key1}-{key2}\"\n",
    "        duplicates = place_names[key1] & place_names[key2]\n",
    "        print(new_key, \"\\n\", duplicates, \"\\n\")\n",
    "        problems[new_key] = list(duplicates)\n",
    "\n",
    "with open('../duplicate_place_names.json', 'w', encoding='utf8') as f:\n",
    "    f.write(json.dumps(problems, indent=4))"
   ]
  },
  {
   "cell_type": "markdown",
   "metadata": {},
   "source": [
    "## Select geo_ents based on annotation results"
   ]
  },
  {
   "cell_type": "code",
   "execution_count": null,
   "metadata": {},
   "outputs": [],
   "source": [
    "for key in topo.keys():\n",
    "    patterns = list()\n",
    "    try:\n",
    "        annotation = PATH_RESULTS / f\"df_annotations_{key}.pkl\"\n",
    "        positives = get_positives(pd.read_pickle(annotation))\n",
    "    except FileNotFoundError:\n",
    "        continue\n",
    "\n",
    "    for item in geo_ents[key]:\n",
    "        if item['pattern'] in positives:\n",
    "            patterns.append(item)\n",
    "\n",
    "    geo_ents[key] = patterns"
   ]
  },
  {
   "cell_type": "markdown",
   "metadata": {},
   "source": [
    "## Create model"
   ]
  },
  {
   "cell_type": "code",
   "execution_count": null,
   "metadata": {},
   "outputs": [],
   "source": [
    "nlp = spacy.load('nl', disable=['ner'])\n",
    "ruler = EntityRuler(nlp)\n",
    "for label in geo_ents:\n",
    "    ruler.add_patterns(geo_ents[label])\n",
    "nlp.add_pipe(ruler)\n",
    "nlp.to_disk(PATH_MODEL)"
   ]
  }
 ],
 "metadata": {
  "kernelspec": {
   "display_name": "place-extraction",
   "language": "python",
   "name": "place-extraction"
  },
  "language_info": {
   "codemirror_mode": {
    "name": "ipython",
    "version": 3
   },
   "file_extension": ".py",
   "mimetype": "text/x-python",
   "name": "python",
   "nbconvert_exporter": "python",
   "pygments_lexer": "ipython3",
   "version": "3.7.3"
  }
 },
 "nbformat": 4,
 "nbformat_minor": 4
}
