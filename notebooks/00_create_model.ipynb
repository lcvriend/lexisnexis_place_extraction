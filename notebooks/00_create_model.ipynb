{
 "cells": [
  {
   "cell_type": "code",
   "execution_count": null,
   "metadata": {},
   "outputs": [],
   "source": [
    "import sys\n",
    "sys.path.insert(0, '../')"
   ]
  },
  {
   "cell_type": "code",
   "execution_count": null,
   "metadata": {},
   "outputs": [],
   "source": [
    "import json\n",
    "from itertools import combinations\n",
    "\n",
    "import spacy\n",
    "from spacy.pipeline import EntityRuler\n",
    "\n",
    "from src.config import PATH_RESOURCES, PATH_MODEL\n",
    "from src.geo_data import load_geonames, load_rest_countries, load_cbs_municipalities"
   ]
  },
  {
   "cell_type": "code",
   "execution_count": null,
   "metadata": {},
   "outputs": [],
   "source": [
    "geonames = load_geonames()\n",
    "cbs_data = load_cbs_municipalities(alts_json='../alts_places_nl.json')\n",
    "\n",
    "exclude = ['GB', 'NL']\n",
    "topo = {\n",
    "    'countries': load_rest_countries(language='nl', alts_json='../alts_countries.json'),\n",
    "    'places'   : geonames.query(\"country_code not in @exclude\").alternate_name.values,\n",
    "    'places_uk': geonames.query(\"country_code == 'GB'\").alternate_name.values,\n",
    "    'places_nl': geonames.query(\"country_code == 'NL' and admin_name1 != 'Friesland'\").alternate_name.values,\n",
    "    'places_fr': geonames.query(\"country_code == 'NL' and admin_name1 == 'Friesland'\").alternate_name.values,\n",
    "    }\n",
    "\n",
    "geo_ents = dict()\n",
    "for label in topo:\n",
    "    geo_ents[label] = [{'label': label, 'pattern': p} for p in topo[label]]"
   ]
  },
  {
   "cell_type": "code",
   "execution_count": null,
   "metadata": {},
   "outputs": [],
   "source": [
    "problems = dict()\n",
    "places = dict()\n",
    "for key in geo_ents:\n",
    "    ent_set = set()\n",
    "    for d in geo_ents[key]:\n",
    "        ent_set.add(d['pattern'])\n",
    "    places[key] = ent_set\n",
    "    \n",
    "for key1, key2 in list(combinations(places, r=2)):\n",
    "    if places[key1] & places[key2]:\n",
    "        new_key = f\"{key1}-{key2}\"\n",
    "        duplicates = place_check[key1] & place_check[key2]\n",
    "        print(new_key, \"\\n\", duplicates, \"\\n\")\n",
    "        problems[new_key] = list(duplicates)\n",
    "\n",
    "with open('../duplicate_places.json', 'w', encoding='utf8') as f:\n",
    "    f.write(json.dumps(problems))"
   ]
  },
  {
   "cell_type": "code",
   "execution_count": null,
   "metadata": {},
   "outputs": [],
   "source": [
    "removal = set()\n",
    "for key in place_check:\n",
    "    if key == 'places':\n",
    "        continue\n",
    "    removal = removal | (place_check[key] & place_check['places'])\n",
    "\n",
    "for item in geo_ents['places']:\n",
    "    if item['pattern'] in removal:\n",
    "        geo_ents['places'].remove(item)"
   ]
  },
  {
   "cell_type": "code",
   "execution_count": null,
   "metadata": {},
   "outputs": [],
   "source": [
    "nlp = spacy.load('nl', disable=['ner'])\n",
    "ruler = EntityRuler(nlp)\n",
    "for label in geo_ents:\n",
    "    ruler.add_patterns(geo_ents[label])\n",
    "nlp.add_pipe(ruler)\n",
    "nlp.to_disk(PATH_MODEL)"
   ]
  }
 ],
 "metadata": {
  "kernelspec": {
   "display_name": "place-extraction",
   "language": "python",
   "name": "place-extraction"
  },
  "language_info": {
   "codemirror_mode": {
    "name": "ipython",
    "version": 3
   },
   "file_extension": ".py",
   "mimetype": "text/x-python",
   "name": "python",
   "nbconvert_exporter": "python",
   "pygments_lexer": "ipython3",
   "version": "3.7.3"
  }
 },
 "nbformat": 4,
 "nbformat_minor": 2
}
