{
 "cells": [
  {
   "cell_type": "code",
   "execution_count": null,
   "metadata": {},
   "outputs": [],
   "source": [
    "import sys\n",
    "sys.path.insert(0, '../')\n",
    "import geopandas\n",
    "import pandas as pd\n",
    "import matplotlib.pyplot as plt\n",
    "from shapely.geometry import Point\n",
    "from src.config import PARAM, PATH_SHAPES, PATH_RESOURCES, PATH_RESULTS\n",
    "from src.geo_data import load_geonames\n",
    "from src.geoplot import geoplot_points, annotate_geoplot"
   ]
  },
  {
   "cell_type": "code",
   "execution_count": null,
   "metadata": {},
   "outputs": [],
   "source": [
    "loc = 'nl'\n",
    "basemap = geopandas.read_file(PATH_SHAPES / loc)"
   ]
  },
  {
   "cell_type": "code",
   "execution_count": null,
   "metadata": {},
   "outputs": [],
   "source": [
    "df_geo = pd.read_pickle(PATH_RESOURCES / 'geonames/df_geonames.pkl').query(\"country_code == 'NL'\")"
   ]
  },
  {
   "cell_type": "code",
   "execution_count": null,
   "metadata": {},
   "outputs": [],
   "source": [
    "geometry = [Point(xy) for xy in zip(df_geo.longitude, df_geo.latitude)]\n",
    "crs = {'init' :'epsg:4326'}\n",
    "gdf_ = geopandas.GeoDataFrame(df_geo, crs=crs, geometry=geometry)\n",
    "gdf_ = gdf_.to_crs(basemap.crs)"
   ]
  },
  {
   "cell_type": "code",
   "execution_count": null,
   "metadata": {},
   "outputs": [],
   "source": [
    "fig, ax = plt.subplots(figsize=(8,8))\n",
    "geoplot_points(ax, basemap, gdf_, 3, title='Distribute plaatsnamen')\n",
    "plt.savefig(PATH_RESULTS / f\"distribution_places_{loc}.png\")\n",
    "plt.tight_layout()"
   ]
  },
  {
   "cell_type": "code",
   "execution_count": null,
   "metadata": {},
   "outputs": [],
   "source": [
    "df_attr_counts = pd.read_pickle('../results/df_attribute_counts.pkl')\n",
    "df = df_attr_counts.xs('places_nl', level=0)\n",
    "df = df.append(df_attr_counts.xs('places_fr', level=0))\n",
    "df = df.rename(columns={'index': 'naam'})\n",
    "\n",
    "df_annotations = pd.read_pickle(PATH_RESULTS / 'df_annotations_places_nl.pkl')\n",
    "df_annotations = df_annotations.append(pd.read_pickle(PATH_RESULTS / 'df_annotations_places_fr.pkl'))\n",
    "df_annotations['positive'] = df_annotations.annotation == '+'\n",
    "positives = df_annotations.groupby('phrase')['positive'].any()\n",
    "\n",
    "df_ = df[df.index.isin(positives[positives].index)]"
   ]
  },
  {
   "cell_type": "code",
   "execution_count": null,
   "metadata": {},
   "outputs": [],
   "source": [
    "gdf = gdf_.merge(df_, how='left', left_on='alternate_name', right_index=True)"
   ]
  },
  {
   "cell_type": "code",
   "execution_count": null,
   "metadata": {},
   "outputs": [],
   "source": [
    "fig, axs = plt.subplots(2, 2, sharex=True, sharey=True, figsize=(24, 28))\n",
    "for ax, batch in zip(axs.reshape(-1), PARAM.lexisnexis.batches):\n",
    "    ax = geoplot_points(ax, basemap, gdf, gdf[batch].fillna(0), title=batch, factor=12)\n",
    "    places = gdf.dropna(subset=[batch]).loc[gdf[batch] >= 5]\n",
    "    annotate_geoplot(ax, places, 'alternate_name')\n",
    "plt.savefig(PATH_RESULTS / f\"places_{loc}.png\")\n",
    "plt.tight_layout()"
   ]
  }
 ],
 "metadata": {
  "kernelspec": {
   "display_name": "place-extraction",
   "language": "python",
   "name": "place-extraction"
  },
  "language_info": {
   "codemirror_mode": {
    "name": "ipython",
    "version": 3
   },
   "file_extension": ".py",
   "mimetype": "text/x-python",
   "name": "python",
   "nbconvert_exporter": "python",
   "pygments_lexer": "ipython3",
   "version": "3.7.3"
  }
 },
 "nbformat": 4,
 "nbformat_minor": 4
}
