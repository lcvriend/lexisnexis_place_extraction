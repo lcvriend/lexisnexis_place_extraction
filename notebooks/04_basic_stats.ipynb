{
 "cells": [
  {
   "cell_type": "code",
   "execution_count": null,
   "metadata": {},
   "outputs": [],
   "source": [
    "# third party\n",
    "import pandas as pd\n",
    "# local\n",
    "from src.pd_helpers import normalize_cols, aggregate"
   ]
  },
  {
   "cell_type": "code",
   "execution_count": null,
   "metadata": {},
   "outputs": [],
   "source": [
    "df_all = pd.read_pickle(PATH_RESULTS / 'df_nlp_stats.pkl')"
   ]
  },
  {
   "cell_type": "code",
   "execution_count": null,
   "metadata": {},
   "outputs": [],
   "source": [
    "normalizations = [\n",
    "    ('n_words',     'n_tokens',    True),\n",
    "    ('n_entities',  'n_tokens',    True),\n",
    "    ('n_sentences', 'n_tokens',    True),\n",
    "    ('pos',         'n_tokens',    True),\n",
    "    ('ent',         'n_tokens',    True),\n",
    "    ('unique_ent',  'n_entities',  True),\n",
    "    ]\n",
    "\n",
    "for n in normalizations:\n",
    "    cols = [col for col in df_all.columns if col.startswith(n[0])]\n",
    "    df_all = normalize_cols(df_all, cols, n[1], invert=n[2])"
   ]
  },
  {
   "cell_type": "code",
   "execution_count": null,
   "metadata": {},
   "outputs": [],
   "source": [
    "cols = [\n",
    "    'n_sentences',\n",
    "    'n_tokens',\n",
    "    'n_stopwords',\n",
    "    'n_words',\n",
    "    'n_entities',\n",
    "    'n_tokens/n_sentences',\n",
    "    'n_tokens/n_words',\n",
    "    'n_tokens/n_entities']\n",
    "aggregate(df_all, cols, 'source')"
   ]
  },
  {
   "cell_type": "code",
   "execution_count": null,
   "metadata": {},
   "outputs": [],
   "source": [
    "cols = ['n_tokens']\n",
    "cols.extend(sorted([col for col in df_all.columns if 'n_tokens/' in col and 'pos_' in col]))\n",
    "aggregate(df_all, cols, 'source')"
   ]
  },
  {
   "cell_type": "code",
   "execution_count": null,
   "metadata": {},
   "outputs": [],
   "source": [
    "cols = [col for col in df_all.columns if col.startswith('unique_ent')]\n",
    "df_all['n_entities_unique'] = df_all[cols].sum(axis=1, skipna=True)"
   ]
  },
  {
   "cell_type": "code",
   "execution_count": null,
   "metadata": {},
   "outputs": [],
   "source": [
    "cols = ['n_entities', 'n_entities_unique']\n",
    "cols.extend(sorted([col for col in df_all.columns if 'n_entities/' in col and 'ent_' in col]))\n",
    "aggregate(df_all, cols, 'source')"
   ]
  },
  {
   "cell_type": "code",
   "execution_count": null,
   "metadata": {},
   "outputs": [],
   "source": [
    "cols = ['n_tokens', 'n_entities']\n",
    "cols.extend(sorted([col for col in df_all.columns if 'n_tokens/' in col and 'ent_' in col]))\n",
    "aggregate(df_all, cols, 'source')"
   ]
  },
  {
   "cell_type": "code",
   "execution_count": null,
   "metadata": {},
   "outputs": [],
   "source": [
    "crit1 = 'n_entities/'\n",
    "crit2 = 'place'\n",
    "cols = ['n_tokens', 'n_entities']\n",
    "cols.extend(sorted([col for col in df_all.columns if crit1 in col and crit2 in col]))\n",
    "df_avg_ent = df_all.groupby(['source', 'section'])[cols].agg(['mean']).round(1)\n",
    "df_avg_ent.columns = [f\"avg:{col[0]}\" for col in df_avg_ent.columns.values]\n",
    "df_avg_ent = df_avg_ent.join(df_all.groupby(['source', 'section'])['section'].count())\n",
    "df_avg_ent.query('section >= 10').sort_values(f\"avg:{cols[2]}\"\n",
    "    ).sort_index(level='source', sort_remaining=False)"
   ]
  },
  {
   "cell_type": "code",
   "execution_count": null,
   "metadata": {},
   "outputs": [],
   "source": [
    "crit1 = 'n_tokens/'\n",
    "crit2 = 'place'\n",
    "cols = ['n_tokens', 'n_entities']\n",
    "cols.extend(sorted([col for col in df_all.columns if crit1 in col and crit2 in col]))\n",
    "df_avg_ent = df_all.groupby(['source', 'section'])[cols].agg(['mean']).round(1)\n",
    "df_avg_ent.columns = [f\"avg:{col[0]}\" for col in df_avg_ent.columns.values]\n",
    "df_avg_ent = df_avg_ent.join(df_all.groupby(['source', 'section'])['section'].count())\n",
    "df_avg_ent.query('section >= 10').sort_values(f\"avg:{cols[2]}\"\n",
    "    ).sort_index(level='source', sort_remaining=False)"
   ]
  }
 ],
 "metadata": {
  "kernelspec": {
   "display_name": "place-extraction",
   "language": "python",
   "name": "place-extraction"
  },
  "language_info": {
   "codemirror_mode": {
    "name": "ipython",
    "version": 3
   },
   "file_extension": ".py",
   "mimetype": "text/x-python",
   "name": "python",
   "nbconvert_exporter": "python",
   "pygments_lexer": "ipython3",
   "version": "3.7.3"
  }
 },
 "nbformat": 4,
 "nbformat_minor": 4
}
