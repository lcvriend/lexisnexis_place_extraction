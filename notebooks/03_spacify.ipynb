{
 "cells": [
  {
   "cell_type": "code",
   "execution_count": null,
   "metadata": {},
   "outputs": [],
   "source": [
    "import sys\n",
    "sys.path.insert(0, '../')"
   ]
  },
  {
   "cell_type": "code",
   "execution_count": null,
   "metadata": {},
   "outputs": [],
   "source": [
    "# standard library\n",
    "import pickle\n",
    "# third party\n",
    "import pandas as pd\n",
    "from spacy.util import load_model\n",
    "# local\n",
    "from src.config import PARAM, PATH_MODEL, PATH_DATA_P, PATH_RESULTS\n",
    "from src.spacy_helpers import serialize_batch, fetch_docs\n",
    "from src.doc_analysis import basic_stats, attribute_counter, most_common\n",
    "batches = PARAM.lexisnexis.batches"
   ]
  },
  {
   "cell_type": "markdown",
   "metadata": {},
   "source": [
    "### Serialize LexisNexis documents"
   ]
  },
  {
   "cell_type": "code",
   "execution_count": null,
   "metadata": {},
   "outputs": [],
   "source": [
    "nlp = load_model(PATH_MODEL)"
   ]
  },
  {
   "cell_type": "code",
   "execution_count": null,
   "metadata": {},
   "outputs": [],
   "source": [
    "for batch in batches:\n",
    "    serialize_batch(nlp, batch)"
   ]
  },
  {
   "cell_type": "markdown",
   "metadata": {},
   "source": [
    "### Store some general stats"
   ]
  },
  {
   "cell_type": "code",
   "execution_count": null,
   "metadata": {},
   "outputs": [],
   "source": [
    "df_stats = pd.DataFrame()\n",
    "for batch in batches:\n",
    "    pre_df = list()\n",
    "\n",
    "    for doc in fetch_docs(PATH_DATA_P / batch, nlp.vocab):\n",
    "        stats = basic_stats(doc)   \n",
    "        pre_df.append(stats)\n",
    "\n",
    "    df_doc = pd.DataFrame(pre_df)\n",
    "    df_doc.columns = [col.lower() for col in df_doc.columns]\n",
    "\n",
    "    df_stats = df_stats.append(df_doc, sort=False)\n",
    "df_stats.to_pickle(PATH_RESULTS / 'df_nlp_stats.pkl')"
   ]
  },
  {
   "cell_type": "markdown",
   "metadata": {},
   "source": [
    "### Store entity and token counts"
   ]
  },
  {
   "cell_type": "code",
   "execution_count": null,
   "metadata": {},
   "outputs": [],
   "source": [
    "all_fails = list()\n",
    "batches_totals = dict()\n",
    "batches_unique = dict()\n",
    "for batch in batches:\n",
    "    batch_totals = dict()\n",
    "    batch_unique = dict()\n",
    "    for doc in fetch_docs(PATH_DATA_P / batch, nlp.vocab):\n",
    "        totals, fails = attribute_counter(doc)\n",
    "        unique, _ = attribute_counter(doc, unique=True)\n",
    "        if fails:\n",
    "            all_fails.append(fails)\n",
    "        for key in totals:\n",
    "            if key not in batch_totals:\n",
    "                batch_totals[key] = totals[key]\n",
    "            else:\n",
    "                batch_totals[key] = batch_totals[key] + totals[key]\n",
    "        for key in unique:\n",
    "            if key not in batch_unique:\n",
    "                batch_unique[key] = unique[key]\n",
    "            else:\n",
    "                batch_unique[key] = batch_unique[key] + unique[key]\n",
    "    batches_totals[batch] = batch_totals\n",
    "    batches_unique[batch] = batch_unique"
   ]
  },
  {
   "cell_type": "code",
   "execution_count": null,
   "metadata": {},
   "outputs": [],
   "source": [
    "n_fails = 0\n",
    "for fails in all_fails:\n",
    "    for fail in fails:\n",
    "        n_fails += 1\n",
    "n_fails"
   ]
  },
  {
   "cell_type": "code",
   "execution_count": null,
   "metadata": {},
   "outputs": [],
   "source": [
    "d = {\n",
    "    'dct_total_tokens_and_entities': batches_totals,\n",
    "    'dct_unique_tokens_and_entities': batches_unique,\n",
    "    'lst_unrecognized_tokens': all_fails,\n",
    "    }\n",
    "for key in d:\n",
    "    with open(PATH_RESULTS / f\"{key}.pkl\", 'wb') as handle:\n",
    "        pickle.dump(d[key], handle)"
   ]
  }
 ],
 "metadata": {
  "kernelspec": {
   "display_name": "place-extraction",
   "language": "python",
   "name": "place-extraction"
  },
  "language_info": {
   "codemirror_mode": {
    "name": "ipython",
    "version": 3
   },
   "file_extension": ".py",
   "mimetype": "text/x-python",
   "name": "python",
   "nbconvert_exporter": "python",
   "pygments_lexer": "ipython3",
   "version": "3.7.3"
  }
 },
 "nbformat": 4,
 "nbformat_minor": 4
}
