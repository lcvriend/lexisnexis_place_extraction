{
 "cells": [
  {
   "cell_type": "code",
   "execution_count": 1,
   "metadata": {},
   "outputs": [],
   "source": [
    "import sys\n",
    "sys.path.insert(0, '../')"
   ]
  },
  {
   "cell_type": "code",
   "execution_count": 2,
   "metadata": {},
   "outputs": [],
   "source": [
    "from spacy.util import load_model\n",
    "\n",
    "from src.config import PARAM, PATH_MODEL\n",
    "from src.spacy_helpers import serialize_batch\n",
    "\n",
    "batches = PARAM.lexisnexis.batches"
   ]
  },
  {
   "cell_type": "code",
   "execution_count": 3,
   "metadata": {},
   "outputs": [],
   "source": [
    "nlp = load_model(PATH_MODEL)"
   ]
  },
  {
   "cell_type": "code",
   "execution_count": 4,
   "metadata": {},
   "outputs": [
    {
     "name": "stderr",
     "output_type": "stream",
     "text": [
      "volkskrant..............: 100%|██████████| 600/600 [00:58<00:00, 10.24it/s]\n",
      "trouw...................: 100%|██████████| 500/500 [00:42<00:00,  8.64it/s]\n",
      "telegraaf...............: 100%|██████████| 537/537 [00:35<00:00, 15.34it/s]\n",
      "leeuwarder_courant......: 100%|██████████| 303/303 [00:21<00:00, 14.64it/s]\n"
     ]
    }
   ],
   "source": [
    "for batch in batches:\n",
    "    serialize_batch(nlp, batch)"
   ]
  }
 ],
 "metadata": {
  "kernelspec": {
   "display_name": "place-extraction",
   "language": "python",
   "name": "place-extraction"
  },
  "language_info": {
   "codemirror_mode": {
    "name": "ipython",
    "version": 3
   },
   "file_extension": ".py",
   "mimetype": "text/x-python",
   "name": "python",
   "nbconvert_exporter": "python",
   "pygments_lexer": "ipython3",
   "version": "3.7.3"
  }
 },
 "nbformat": 4,
 "nbformat_minor": 2
}
